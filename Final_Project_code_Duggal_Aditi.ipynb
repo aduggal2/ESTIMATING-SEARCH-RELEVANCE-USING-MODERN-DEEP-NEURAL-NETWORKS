{
  "cells": [
    {
      "cell_type": "code",
      "execution_count": 2,
      "metadata": {
        "colab": {
          "base_uri": "https://localhost:8080/"
        },
        "id": "63WBy8gQiuN3",
        "outputId": "194f63cc-9631-49cc-9b27-dd716059cbb4"
      },
      "outputs": [
        {
          "output_type": "stream",
          "name": "stdout",
          "text": [
            "Drive already mounted at /content/drive; to attempt to forcibly remount, call drive.mount(\"/content/drive\", force_remount=True).\n"
          ]
        }
      ],
      "source": [
        "from google.colab import drive\n",
        "drive.mount('/content/drive')"
      ]
    },
    {
      "cell_type": "code",
      "execution_count": 1,
      "metadata": {
        "id": "HW3tZo6plFq-",
        "colab": {
          "base_uri": "https://localhost:8080/"
        },
        "outputId": "42dd3e4c-f66b-438f-9891-af24293ccb40"
      },
      "outputs": [
        {
          "output_type": "stream",
          "name": "stdout",
          "text": [
            "[nltk_data] Downloading package stopwords to /root/nltk_data...\n",
            "[nltk_data]   Package stopwords is already up-to-date!\n",
            "[nltk_data] Downloading package wordnet to /root/nltk_data...\n",
            "[nltk_data]   Package wordnet is already up-to-date!\n"
          ]
        }
      ],
      "source": [
        "# general packages\n",
        "import numpy as np\n",
        "import pandas as pd\n",
        "from sklearn.model_selection import train_test_split\n",
        "import time\n",
        "\n",
        "\n",
        "#preprocessing\n",
        "import string\n",
        "import re\n",
        "import nltk\n",
        "from nltk.corpus import stopwords\n",
        "nltk.download('stopwords')\n",
        "nltk.download('wordnet')\n",
        "wordsToRemove = set(stopwords.words('english'))\n",
        "from nltk.stem import WordNetLemmatizer\n",
        "\n",
        "#Encoding\n",
        "from tensorflow.keras.preprocessing.text import Tokenizer\n",
        "\n",
        "#Padding\n",
        "from tensorflow.keras.preprocessing.sequence import pad_sequences\n",
        "\n",
        "#plot\n",
        "import matplotlib.pyplot as plt\n",
        "from keras.utils.vis_utils import plot_model\n",
        "\n"
      ]
    },
    {
      "cell_type": "code",
      "source": [
        "!pip install sentencepiece\n",
        "!gdown --id 13exfXiyiByluh1PfYK1EyZyizqxeCVG9"
      ],
      "metadata": {
        "colab": {
          "base_uri": "https://localhost:8080/"
        },
        "id": "5JLTLsY88rz2",
        "outputId": "2f9384c8-9def-4779-c8e4-c7284d50fc78"
      },
      "execution_count": 4,
      "outputs": [
        {
          "output_type": "stream",
          "name": "stdout",
          "text": [
            "Requirement already satisfied: sentencepiece in /usr/local/lib/python3.7/dist-packages (0.1.96)\n",
            "/usr/local/lib/python3.7/dist-packages/gdown/cli.py:131: FutureWarning: Option `--id` was deprecated in version 4.3.1 and will be removed in 5.0. You don't need to pass it anymore to use a file ID.\n",
            "  category=FutureWarning,\n",
            "Downloading...\n",
            "From: https://drive.google.com/uc?id=13exfXiyiByluh1PfYK1EyZyizqxeCVG9\n",
            "To: /content/tokenization.py\n",
            "100% 17.3k/17.3k [00:00<00:00, 25.2MB/s]\n"
          ]
        }
      ]
    },
    {
      "cell_type": "code",
      "source": [
        "#Modeling\n",
        "import tensorflow as tf\n",
        "from keras.layers import Bidirectional,LSTM,Dense, Input, Embedding, concatenate, Dot, AdditiveAttention,Activation\n",
        "from keras.models import Model, load_model\n",
        "from tensorflow.keras.optimizers import Adam\n",
        "from sklearn.metrics import mean_squared_error, median_absolute_error\n",
        "from keras.callbacks import  EarlyStopping, ModelCheckpoint, LearningRateScheduler\n",
        "from keras.metrics import RootMeanSquaredError\n",
        "from keras.layers import Conv1D, GlobalMaxPooling1D, Dropout, BatchNormalization\n",
        "import tensorflow_hub as hub\n",
        "import re"
      ],
      "metadata": {
        "id": "zpaGE3JnllgX"
      },
      "execution_count": 2,
      "outputs": []
    },
    {
      "cell_type": "markdown",
      "source": [
        "####Loading Data"
      ],
      "metadata": {
        "id": "vEBAKcyzCED0"
      }
    },
    {
      "cell_type": "code",
      "source": [
        "# dataframe that holds training data\n",
        "train_df = pd.read_csv(\"data/train.csv\", encoding=\"latin\")\n",
        "train_df.head()"
      ],
      "metadata": {
        "colab": {
          "base_uri": "https://localhost:8080/",
          "height": 206
        },
        "id": "pfR3ZWgX8WnN",
        "outputId": "0ddba867-9447-41a8-97ed-1da61405c88d"
      },
      "execution_count": 3,
      "outputs": [
        {
          "output_type": "execute_result",
          "data": {
            "text/plain": [
              "   id  product_uid                                      product_title  \\\n",
              "0   2       100001                  Simpson Strong-Tie 12-Gauge Angle   \n",
              "1   3       100001                  Simpson Strong-Tie 12-Gauge Angle   \n",
              "2   9       100002  BEHR Premium Textured DeckOver 1-gal. #SC-141 ...   \n",
              "3  16       100005  Delta Vero 1-Handle Shower Only Faucet Trim Ki...   \n",
              "4  17       100005  Delta Vero 1-Handle Shower Only Faucet Trim Ki...   \n",
              "\n",
              "          search_term  relevance  \n",
              "0       angle bracket       3.00  \n",
              "1           l bracket       2.50  \n",
              "2           deck over       3.00  \n",
              "3    rain shower head       2.33  \n",
              "4  shower only faucet       2.67  "
            ],
            "text/html": [
              "\n",
              "  <div id=\"df-c3353102-00c0-4185-b6a7-4d89e4e42a53\">\n",
              "    <div class=\"colab-df-container\">\n",
              "      <div>\n",
              "<style scoped>\n",
              "    .dataframe tbody tr th:only-of-type {\n",
              "        vertical-align: middle;\n",
              "    }\n",
              "\n",
              "    .dataframe tbody tr th {\n",
              "        vertical-align: top;\n",
              "    }\n",
              "\n",
              "    .dataframe thead th {\n",
              "        text-align: right;\n",
              "    }\n",
              "</style>\n",
              "<table border=\"1\" class=\"dataframe\">\n",
              "  <thead>\n",
              "    <tr style=\"text-align: right;\">\n",
              "      <th></th>\n",
              "      <th>id</th>\n",
              "      <th>product_uid</th>\n",
              "      <th>product_title</th>\n",
              "      <th>search_term</th>\n",
              "      <th>relevance</th>\n",
              "    </tr>\n",
              "  </thead>\n",
              "  <tbody>\n",
              "    <tr>\n",
              "      <th>0</th>\n",
              "      <td>2</td>\n",
              "      <td>100001</td>\n",
              "      <td>Simpson Strong-Tie 12-Gauge Angle</td>\n",
              "      <td>angle bracket</td>\n",
              "      <td>3.00</td>\n",
              "    </tr>\n",
              "    <tr>\n",
              "      <th>1</th>\n",
              "      <td>3</td>\n",
              "      <td>100001</td>\n",
              "      <td>Simpson Strong-Tie 12-Gauge Angle</td>\n",
              "      <td>l bracket</td>\n",
              "      <td>2.50</td>\n",
              "    </tr>\n",
              "    <tr>\n",
              "      <th>2</th>\n",
              "      <td>9</td>\n",
              "      <td>100002</td>\n",
              "      <td>BEHR Premium Textured DeckOver 1-gal. #SC-141 ...</td>\n",
              "      <td>deck over</td>\n",
              "      <td>3.00</td>\n",
              "    </tr>\n",
              "    <tr>\n",
              "      <th>3</th>\n",
              "      <td>16</td>\n",
              "      <td>100005</td>\n",
              "      <td>Delta Vero 1-Handle Shower Only Faucet Trim Ki...</td>\n",
              "      <td>rain shower head</td>\n",
              "      <td>2.33</td>\n",
              "    </tr>\n",
              "    <tr>\n",
              "      <th>4</th>\n",
              "      <td>17</td>\n",
              "      <td>100005</td>\n",
              "      <td>Delta Vero 1-Handle Shower Only Faucet Trim Ki...</td>\n",
              "      <td>shower only faucet</td>\n",
              "      <td>2.67</td>\n",
              "    </tr>\n",
              "  </tbody>\n",
              "</table>\n",
              "</div>\n",
              "      <button class=\"colab-df-convert\" onclick=\"convertToInteractive('df-c3353102-00c0-4185-b6a7-4d89e4e42a53')\"\n",
              "              title=\"Convert this dataframe to an interactive table.\"\n",
              "              style=\"display:none;\">\n",
              "        \n",
              "  <svg xmlns=\"http://www.w3.org/2000/svg\" height=\"24px\"viewBox=\"0 0 24 24\"\n",
              "       width=\"24px\">\n",
              "    <path d=\"M0 0h24v24H0V0z\" fill=\"none\"/>\n",
              "    <path d=\"M18.56 5.44l.94 2.06.94-2.06 2.06-.94-2.06-.94-.94-2.06-.94 2.06-2.06.94zm-11 1L8.5 8.5l.94-2.06 2.06-.94-2.06-.94L8.5 2.5l-.94 2.06-2.06.94zm10 10l.94 2.06.94-2.06 2.06-.94-2.06-.94-.94-2.06-.94 2.06-2.06.94z\"/><path d=\"M17.41 7.96l-1.37-1.37c-.4-.4-.92-.59-1.43-.59-.52 0-1.04.2-1.43.59L10.3 9.45l-7.72 7.72c-.78.78-.78 2.05 0 2.83L4 21.41c.39.39.9.59 1.41.59.51 0 1.02-.2 1.41-.59l7.78-7.78 2.81-2.81c.8-.78.8-2.07 0-2.86zM5.41 20L4 18.59l7.72-7.72 1.47 1.35L5.41 20z\"/>\n",
              "  </svg>\n",
              "      </button>\n",
              "      \n",
              "  <style>\n",
              "    .colab-df-container {\n",
              "      display:flex;\n",
              "      flex-wrap:wrap;\n",
              "      gap: 12px;\n",
              "    }\n",
              "\n",
              "    .colab-df-convert {\n",
              "      background-color: #E8F0FE;\n",
              "      border: none;\n",
              "      border-radius: 50%;\n",
              "      cursor: pointer;\n",
              "      display: none;\n",
              "      fill: #1967D2;\n",
              "      height: 32px;\n",
              "      padding: 0 0 0 0;\n",
              "      width: 32px;\n",
              "    }\n",
              "\n",
              "    .colab-df-convert:hover {\n",
              "      background-color: #E2EBFA;\n",
              "      box-shadow: 0px 1px 2px rgba(60, 64, 67, 0.3), 0px 1px 3px 1px rgba(60, 64, 67, 0.15);\n",
              "      fill: #174EA6;\n",
              "    }\n",
              "\n",
              "    [theme=dark] .colab-df-convert {\n",
              "      background-color: #3B4455;\n",
              "      fill: #D2E3FC;\n",
              "    }\n",
              "\n",
              "    [theme=dark] .colab-df-convert:hover {\n",
              "      background-color: #434B5C;\n",
              "      box-shadow: 0px 1px 3px 1px rgba(0, 0, 0, 0.15);\n",
              "      filter: drop-shadow(0px 1px 2px rgba(0, 0, 0, 0.3));\n",
              "      fill: #FFFFFF;\n",
              "    }\n",
              "  </style>\n",
              "\n",
              "      <script>\n",
              "        const buttonEl =\n",
              "          document.querySelector('#df-c3353102-00c0-4185-b6a7-4d89e4e42a53 button.colab-df-convert');\n",
              "        buttonEl.style.display =\n",
              "          google.colab.kernel.accessAllowed ? 'block' : 'none';\n",
              "\n",
              "        async function convertToInteractive(key) {\n",
              "          const element = document.querySelector('#df-c3353102-00c0-4185-b6a7-4d89e4e42a53');\n",
              "          const dataTable =\n",
              "            await google.colab.kernel.invokeFunction('convertToInteractive',\n",
              "                                                     [key], {});\n",
              "          if (!dataTable) return;\n",
              "\n",
              "          const docLinkHtml = 'Like what you see? Visit the ' +\n",
              "            '<a target=\"_blank\" href=https://colab.research.google.com/notebooks/data_table.ipynb>data table notebook</a>'\n",
              "            + ' to learn more about interactive tables.';\n",
              "          element.innerHTML = '';\n",
              "          dataTable['output_type'] = 'display_data';\n",
              "          await google.colab.output.renderOutput(dataTable, element);\n",
              "          const docLink = document.createElement('div');\n",
              "          docLink.innerHTML = docLinkHtml;\n",
              "          element.appendChild(docLink);\n",
              "        }\n",
              "      </script>\n",
              "    </div>\n",
              "  </div>\n",
              "  "
            ]
          },
          "metadata": {},
          "execution_count": 3
        }
      ]
    },
    {
      "cell_type": "code",
      "execution_count": 4,
      "metadata": {
        "colab": {
          "base_uri": "https://localhost:8080/",
          "height": 206
        },
        "id": "3OXL9t-ulsyT",
        "outputId": "6b91d549-8bd4-467a-f712-631b789d765b"
      },
      "outputs": [
        {
          "output_type": "execute_result",
          "data": {
            "text/plain": [
              "   product_uid      name                                              value\n",
              "0     100001.0  Bullet01  Versatile connector for various 90° connection...\n",
              "1     100001.0  Bullet02  Stronger than angled nailing or screw fastenin...\n",
              "2     100001.0  Bullet03  Help ensure joints are consistently straight a...\n",
              "3     100001.0  Bullet04              Dimensions: 3 in. x 3 in. x 1-1/2 in.\n",
              "4     100001.0  Bullet05                           Made from 12-Gauge steel"
            ],
            "text/html": [
              "\n",
              "  <div id=\"df-f29fc3c7-5ec8-43c9-a099-36eef0ea9a0a\">\n",
              "    <div class=\"colab-df-container\">\n",
              "      <div>\n",
              "<style scoped>\n",
              "    .dataframe tbody tr th:only-of-type {\n",
              "        vertical-align: middle;\n",
              "    }\n",
              "\n",
              "    .dataframe tbody tr th {\n",
              "        vertical-align: top;\n",
              "    }\n",
              "\n",
              "    .dataframe thead th {\n",
              "        text-align: right;\n",
              "    }\n",
              "</style>\n",
              "<table border=\"1\" class=\"dataframe\">\n",
              "  <thead>\n",
              "    <tr style=\"text-align: right;\">\n",
              "      <th></th>\n",
              "      <th>product_uid</th>\n",
              "      <th>name</th>\n",
              "      <th>value</th>\n",
              "    </tr>\n",
              "  </thead>\n",
              "  <tbody>\n",
              "    <tr>\n",
              "      <th>0</th>\n",
              "      <td>100001.0</td>\n",
              "      <td>Bullet01</td>\n",
              "      <td>Versatile connector for various 90° connection...</td>\n",
              "    </tr>\n",
              "    <tr>\n",
              "      <th>1</th>\n",
              "      <td>100001.0</td>\n",
              "      <td>Bullet02</td>\n",
              "      <td>Stronger than angled nailing or screw fastenin...</td>\n",
              "    </tr>\n",
              "    <tr>\n",
              "      <th>2</th>\n",
              "      <td>100001.0</td>\n",
              "      <td>Bullet03</td>\n",
              "      <td>Help ensure joints are consistently straight a...</td>\n",
              "    </tr>\n",
              "    <tr>\n",
              "      <th>3</th>\n",
              "      <td>100001.0</td>\n",
              "      <td>Bullet04</td>\n",
              "      <td>Dimensions: 3 in. x 3 in. x 1-1/2 in.</td>\n",
              "    </tr>\n",
              "    <tr>\n",
              "      <th>4</th>\n",
              "      <td>100001.0</td>\n",
              "      <td>Bullet05</td>\n",
              "      <td>Made from 12-Gauge steel</td>\n",
              "    </tr>\n",
              "  </tbody>\n",
              "</table>\n",
              "</div>\n",
              "      <button class=\"colab-df-convert\" onclick=\"convertToInteractive('df-f29fc3c7-5ec8-43c9-a099-36eef0ea9a0a')\"\n",
              "              title=\"Convert this dataframe to an interactive table.\"\n",
              "              style=\"display:none;\">\n",
              "        \n",
              "  <svg xmlns=\"http://www.w3.org/2000/svg\" height=\"24px\"viewBox=\"0 0 24 24\"\n",
              "       width=\"24px\">\n",
              "    <path d=\"M0 0h24v24H0V0z\" fill=\"none\"/>\n",
              "    <path d=\"M18.56 5.44l.94 2.06.94-2.06 2.06-.94-2.06-.94-.94-2.06-.94 2.06-2.06.94zm-11 1L8.5 8.5l.94-2.06 2.06-.94-2.06-.94L8.5 2.5l-.94 2.06-2.06.94zm10 10l.94 2.06.94-2.06 2.06-.94-2.06-.94-.94-2.06-.94 2.06-2.06.94z\"/><path d=\"M17.41 7.96l-1.37-1.37c-.4-.4-.92-.59-1.43-.59-.52 0-1.04.2-1.43.59L10.3 9.45l-7.72 7.72c-.78.78-.78 2.05 0 2.83L4 21.41c.39.39.9.59 1.41.59.51 0 1.02-.2 1.41-.59l7.78-7.78 2.81-2.81c.8-.78.8-2.07 0-2.86zM5.41 20L4 18.59l7.72-7.72 1.47 1.35L5.41 20z\"/>\n",
              "  </svg>\n",
              "      </button>\n",
              "      \n",
              "  <style>\n",
              "    .colab-df-container {\n",
              "      display:flex;\n",
              "      flex-wrap:wrap;\n",
              "      gap: 12px;\n",
              "    }\n",
              "\n",
              "    .colab-df-convert {\n",
              "      background-color: #E8F0FE;\n",
              "      border: none;\n",
              "      border-radius: 50%;\n",
              "      cursor: pointer;\n",
              "      display: none;\n",
              "      fill: #1967D2;\n",
              "      height: 32px;\n",
              "      padding: 0 0 0 0;\n",
              "      width: 32px;\n",
              "    }\n",
              "\n",
              "    .colab-df-convert:hover {\n",
              "      background-color: #E2EBFA;\n",
              "      box-shadow: 0px 1px 2px rgba(60, 64, 67, 0.3), 0px 1px 3px 1px rgba(60, 64, 67, 0.15);\n",
              "      fill: #174EA6;\n",
              "    }\n",
              "\n",
              "    [theme=dark] .colab-df-convert {\n",
              "      background-color: #3B4455;\n",
              "      fill: #D2E3FC;\n",
              "    }\n",
              "\n",
              "    [theme=dark] .colab-df-convert:hover {\n",
              "      background-color: #434B5C;\n",
              "      box-shadow: 0px 1px 3px 1px rgba(0, 0, 0, 0.15);\n",
              "      filter: drop-shadow(0px 1px 2px rgba(0, 0, 0, 0.3));\n",
              "      fill: #FFFFFF;\n",
              "    }\n",
              "  </style>\n",
              "\n",
              "      <script>\n",
              "        const buttonEl =\n",
              "          document.querySelector('#df-f29fc3c7-5ec8-43c9-a099-36eef0ea9a0a button.colab-df-convert');\n",
              "        buttonEl.style.display =\n",
              "          google.colab.kernel.accessAllowed ? 'block' : 'none';\n",
              "\n",
              "        async function convertToInteractive(key) {\n",
              "          const element = document.querySelector('#df-f29fc3c7-5ec8-43c9-a099-36eef0ea9a0a');\n",
              "          const dataTable =\n",
              "            await google.colab.kernel.invokeFunction('convertToInteractive',\n",
              "                                                     [key], {});\n",
              "          if (!dataTable) return;\n",
              "\n",
              "          const docLinkHtml = 'Like what you see? Visit the ' +\n",
              "            '<a target=\"_blank\" href=https://colab.research.google.com/notebooks/data_table.ipynb>data table notebook</a>'\n",
              "            + ' to learn more about interactive tables.';\n",
              "          element.innerHTML = '';\n",
              "          dataTable['output_type'] = 'display_data';\n",
              "          await google.colab.output.renderOutput(dataTable, element);\n",
              "          const docLink = document.createElement('div');\n",
              "          docLink.innerHTML = docLinkHtml;\n",
              "          element.appendChild(docLink);\n",
              "        }\n",
              "      </script>\n",
              "    </div>\n",
              "  </div>\n",
              "  "
            ]
          },
          "metadata": {},
          "execution_count": 4
        }
      ],
      "source": [
        "# dataframe that holds attributes info\n",
        "attributes_df = pd.read_csv(\"data/attributes.csv\")\n",
        "attributes_df.head()"
      ]
    },
    {
      "cell_type": "code",
      "execution_count": 5,
      "metadata": {
        "colab": {
          "base_uri": "https://localhost:8080/",
          "height": 237
        },
        "id": "P324sIWGlw8s",
        "outputId": "7cf6d1ac-fb86-4b11-bcd0-85906657b99a"
      },
      "outputs": [
        {
          "output_type": "execute_result",
          "data": {
            "text/plain": [
              "                                           product_description\n",
              "product_uid                                                   \n",
              "100001       Not only do angles make joints stronger, they ...\n",
              "100002       BEHR Premium Textured DECKOVER is an innovativ...\n",
              "100003       Classic architecture meets contemporary design...\n",
              "100004       The Grape Solar 265-Watt Polycrystalline PV So...\n",
              "100005       Update your bathroom with the Delta Vero Singl..."
            ],
            "text/html": [
              "\n",
              "  <div id=\"df-7d1ff9a2-c0fe-41e4-ae49-d955b786fd3f\">\n",
              "    <div class=\"colab-df-container\">\n",
              "      <div>\n",
              "<style scoped>\n",
              "    .dataframe tbody tr th:only-of-type {\n",
              "        vertical-align: middle;\n",
              "    }\n",
              "\n",
              "    .dataframe tbody tr th {\n",
              "        vertical-align: top;\n",
              "    }\n",
              "\n",
              "    .dataframe thead th {\n",
              "        text-align: right;\n",
              "    }\n",
              "</style>\n",
              "<table border=\"1\" class=\"dataframe\">\n",
              "  <thead>\n",
              "    <tr style=\"text-align: right;\">\n",
              "      <th></th>\n",
              "      <th>product_description</th>\n",
              "    </tr>\n",
              "    <tr>\n",
              "      <th>product_uid</th>\n",
              "      <th></th>\n",
              "    </tr>\n",
              "  </thead>\n",
              "  <tbody>\n",
              "    <tr>\n",
              "      <th>100001</th>\n",
              "      <td>Not only do angles make joints stronger, they ...</td>\n",
              "    </tr>\n",
              "    <tr>\n",
              "      <th>100002</th>\n",
              "      <td>BEHR Premium Textured DECKOVER is an innovativ...</td>\n",
              "    </tr>\n",
              "    <tr>\n",
              "      <th>100003</th>\n",
              "      <td>Classic architecture meets contemporary design...</td>\n",
              "    </tr>\n",
              "    <tr>\n",
              "      <th>100004</th>\n",
              "      <td>The Grape Solar 265-Watt Polycrystalline PV So...</td>\n",
              "    </tr>\n",
              "    <tr>\n",
              "      <th>100005</th>\n",
              "      <td>Update your bathroom with the Delta Vero Singl...</td>\n",
              "    </tr>\n",
              "  </tbody>\n",
              "</table>\n",
              "</div>\n",
              "      <button class=\"colab-df-convert\" onclick=\"convertToInteractive('df-7d1ff9a2-c0fe-41e4-ae49-d955b786fd3f')\"\n",
              "              title=\"Convert this dataframe to an interactive table.\"\n",
              "              style=\"display:none;\">\n",
              "        \n",
              "  <svg xmlns=\"http://www.w3.org/2000/svg\" height=\"24px\"viewBox=\"0 0 24 24\"\n",
              "       width=\"24px\">\n",
              "    <path d=\"M0 0h24v24H0V0z\" fill=\"none\"/>\n",
              "    <path d=\"M18.56 5.44l.94 2.06.94-2.06 2.06-.94-2.06-.94-.94-2.06-.94 2.06-2.06.94zm-11 1L8.5 8.5l.94-2.06 2.06-.94-2.06-.94L8.5 2.5l-.94 2.06-2.06.94zm10 10l.94 2.06.94-2.06 2.06-.94-2.06-.94-.94-2.06-.94 2.06-2.06.94z\"/><path d=\"M17.41 7.96l-1.37-1.37c-.4-.4-.92-.59-1.43-.59-.52 0-1.04.2-1.43.59L10.3 9.45l-7.72 7.72c-.78.78-.78 2.05 0 2.83L4 21.41c.39.39.9.59 1.41.59.51 0 1.02-.2 1.41-.59l7.78-7.78 2.81-2.81c.8-.78.8-2.07 0-2.86zM5.41 20L4 18.59l7.72-7.72 1.47 1.35L5.41 20z\"/>\n",
              "  </svg>\n",
              "      </button>\n",
              "      \n",
              "  <style>\n",
              "    .colab-df-container {\n",
              "      display:flex;\n",
              "      flex-wrap:wrap;\n",
              "      gap: 12px;\n",
              "    }\n",
              "\n",
              "    .colab-df-convert {\n",
              "      background-color: #E8F0FE;\n",
              "      border: none;\n",
              "      border-radius: 50%;\n",
              "      cursor: pointer;\n",
              "      display: none;\n",
              "      fill: #1967D2;\n",
              "      height: 32px;\n",
              "      padding: 0 0 0 0;\n",
              "      width: 32px;\n",
              "    }\n",
              "\n",
              "    .colab-df-convert:hover {\n",
              "      background-color: #E2EBFA;\n",
              "      box-shadow: 0px 1px 2px rgba(60, 64, 67, 0.3), 0px 1px 3px 1px rgba(60, 64, 67, 0.15);\n",
              "      fill: #174EA6;\n",
              "    }\n",
              "\n",
              "    [theme=dark] .colab-df-convert {\n",
              "      background-color: #3B4455;\n",
              "      fill: #D2E3FC;\n",
              "    }\n",
              "\n",
              "    [theme=dark] .colab-df-convert:hover {\n",
              "      background-color: #434B5C;\n",
              "      box-shadow: 0px 1px 3px 1px rgba(0, 0, 0, 0.15);\n",
              "      filter: drop-shadow(0px 1px 2px rgba(0, 0, 0, 0.3));\n",
              "      fill: #FFFFFF;\n",
              "    }\n",
              "  </style>\n",
              "\n",
              "      <script>\n",
              "        const buttonEl =\n",
              "          document.querySelector('#df-7d1ff9a2-c0fe-41e4-ae49-d955b786fd3f button.colab-df-convert');\n",
              "        buttonEl.style.display =\n",
              "          google.colab.kernel.accessAllowed ? 'block' : 'none';\n",
              "\n",
              "        async function convertToInteractive(key) {\n",
              "          const element = document.querySelector('#df-7d1ff9a2-c0fe-41e4-ae49-d955b786fd3f');\n",
              "          const dataTable =\n",
              "            await google.colab.kernel.invokeFunction('convertToInteractive',\n",
              "                                                     [key], {});\n",
              "          if (!dataTable) return;\n",
              "\n",
              "          const docLinkHtml = 'Like what you see? Visit the ' +\n",
              "            '<a target=\"_blank\" href=https://colab.research.google.com/notebooks/data_table.ipynb>data table notebook</a>'\n",
              "            + ' to learn more about interactive tables.';\n",
              "          element.innerHTML = '';\n",
              "          dataTable['output_type'] = 'display_data';\n",
              "          await google.colab.output.renderOutput(dataTable, element);\n",
              "          const docLink = document.createElement('div');\n",
              "          docLink.innerHTML = docLinkHtml;\n",
              "          element.appendChild(docLink);\n",
              "        }\n",
              "      </script>\n",
              "    </div>\n",
              "  </div>\n",
              "  "
            ]
          },
          "metadata": {},
          "execution_count": 5
        }
      ],
      "source": [
        "# dataframe that holds product description info\n",
        "prod_desc_df = pd.read_csv(\"data/product_descriptions.csv\")\n",
        "prod_desc_df.set_index(\"product_uid\",inplace=True)\n",
        "prod_desc_df.head()"
      ]
    },
    {
      "cell_type": "code",
      "execution_count": 6,
      "metadata": {
        "colab": {
          "base_uri": "https://localhost:8080/"
        },
        "id": "E2MLtr6ylmxZ",
        "outputId": "c428d265-29af-408c-e16d-3f1b60481ee0"
      },
      "outputs": [
        {
          "output_type": "stream",
          "name": "stdout",
          "text": [
            "Total number of products:  54667\n"
          ]
        },
        {
          "output_type": "execute_result",
          "data": {
            "text/plain": [
              "(74067, 5)"
            ]
          },
          "metadata": {},
          "execution_count": 6
        }
      ],
      "source": [
        "print(\"Total number of products: \", len(train_df[\"product_uid\"].unique()))\n",
        "train_df.shape"
      ]
    },
    {
      "cell_type": "markdown",
      "source": [
        "####Preprocessing"
      ],
      "metadata": {
        "id": "Aj5SM8uRDM5z"
      }
    },
    {
      "cell_type": "code",
      "execution_count": 7,
      "metadata": {
        "id": "U28aYTjjl8Gf"
      },
      "outputs": [],
      "source": [
        "class Preprocesser(object):\n",
        "    def __init__(self, punctuation=True, url=True):\n",
        "        self.punctuation = punctuation\n",
        "        self.url = url\n",
        "    \n",
        "    def apply(self, text):\n",
        "        \n",
        "        text = self._lowercase(text)\n",
        "        \n",
        "        if self.url:\n",
        "            text = self._remove_url(text)\n",
        "            \n",
        "        if self.punctuation:\n",
        "            text = self._remove_punctuation(text)\n",
        "            \n",
        "        text = re.sub(r'\\s+', ' ', text).strip()\n",
        "        \n",
        "        return text\n",
        "        \n",
        "    def _remove_punctuation(self, text):\n",
        "                \n",
        "        for c in string.punctuation:\n",
        "            text = re.sub(f\"\\{c}\",\" \",text)\n",
        "        \n",
        "        return text\n",
        "    \n",
        "    def _remove_url(self, text):\n",
        "        text = re.sub(r'http\\S+',\"\",text)\n",
        "        return text\n",
        "    \n",
        "    def _lowercase(self, text):\n",
        "        return text.lower()"
      ]
    },
    {
      "cell_type": "markdown",
      "source": [
        "####Tokenization"
      ],
      "metadata": {
        "id": "5ia__y3OElrQ"
      }
    },
    {
      "cell_type": "code",
      "execution_count": 8,
      "metadata": {
        "id": "OE_FEADGl-4k"
      },
      "outputs": [],
      "source": [
        "lemmatizer = WordNetLemmatizer()\n",
        "\n",
        "def tokenize(text):\n",
        "    return [lemmatizer.lemmatize(x) for x in text.split(\" \") if x not in wordsToRemove]"
      ]
    },
    {
      "cell_type": "code",
      "execution_count": 9,
      "metadata": {
        "id": "IxYKdRZqmAj_"
      },
      "outputs": [],
      "source": [
        "preprocesser = Preprocesser()\n",
        "\n",
        "#preprocessing title\n",
        "train_df[\"preprocessed_title\"] = train_df[\"product_title\"].astype(str).apply(lambda x: preprocesser.apply(x)).apply(lambda x : tokenize(x))\n",
        "\n",
        "#preprocessing product description\n",
        "train_df[\"product_description\"] = train_df[\"product_uid\"].astype(int).apply(lambda x: prod_desc_df.loc[x].product_description)\n",
        "train_df[\"preprocessed_description\"] = train_df[\"product_description\"].astype(str).apply(lambda x: preprocesser.apply(x)).apply(lambda x : tokenize(x))"
      ]
    },
    {
      "cell_type": "code",
      "source": [
        "train_df.head(1)"
      ],
      "metadata": {
        "colab": {
          "base_uri": "https://localhost:8080/",
          "height": 179
        },
        "id": "MqjG5XUkHlxp",
        "outputId": "0057784f-885c-4d31-80f7-290c6bbb9437"
      },
      "execution_count": 10,
      "outputs": [
        {
          "output_type": "execute_result",
          "data": {
            "text/plain": [
              "   id  product_uid                      product_title    search_term  \\\n",
              "0   2       100001  Simpson Strong-Tie 12-Gauge Angle  angle bracket   \n",
              "\n",
              "   relevance                        preprocessed_title  \\\n",
              "0        3.0  [simpson, strong, tie, 12, gauge, angle]   \n",
              "\n",
              "                                 product_description  \\\n",
              "0  Not only do angles make joints stronger, they ...   \n",
              "\n",
              "                            preprocessed_description  \n",
              "0  [angle, make, joint, stronger, also, provide, ...  "
            ],
            "text/html": [
              "\n",
              "  <div id=\"df-247d16c1-6a76-4393-8722-f17778a90364\">\n",
              "    <div class=\"colab-df-container\">\n",
              "      <div>\n",
              "<style scoped>\n",
              "    .dataframe tbody tr th:only-of-type {\n",
              "        vertical-align: middle;\n",
              "    }\n",
              "\n",
              "    .dataframe tbody tr th {\n",
              "        vertical-align: top;\n",
              "    }\n",
              "\n",
              "    .dataframe thead th {\n",
              "        text-align: right;\n",
              "    }\n",
              "</style>\n",
              "<table border=\"1\" class=\"dataframe\">\n",
              "  <thead>\n",
              "    <tr style=\"text-align: right;\">\n",
              "      <th></th>\n",
              "      <th>id</th>\n",
              "      <th>product_uid</th>\n",
              "      <th>product_title</th>\n",
              "      <th>search_term</th>\n",
              "      <th>relevance</th>\n",
              "      <th>preprocessed_title</th>\n",
              "      <th>product_description</th>\n",
              "      <th>preprocessed_description</th>\n",
              "    </tr>\n",
              "  </thead>\n",
              "  <tbody>\n",
              "    <tr>\n",
              "      <th>0</th>\n",
              "      <td>2</td>\n",
              "      <td>100001</td>\n",
              "      <td>Simpson Strong-Tie 12-Gauge Angle</td>\n",
              "      <td>angle bracket</td>\n",
              "      <td>3.0</td>\n",
              "      <td>[simpson, strong, tie, 12, gauge, angle]</td>\n",
              "      <td>Not only do angles make joints stronger, they ...</td>\n",
              "      <td>[angle, make, joint, stronger, also, provide, ...</td>\n",
              "    </tr>\n",
              "  </tbody>\n",
              "</table>\n",
              "</div>\n",
              "      <button class=\"colab-df-convert\" onclick=\"convertToInteractive('df-247d16c1-6a76-4393-8722-f17778a90364')\"\n",
              "              title=\"Convert this dataframe to an interactive table.\"\n",
              "              style=\"display:none;\">\n",
              "        \n",
              "  <svg xmlns=\"http://www.w3.org/2000/svg\" height=\"24px\"viewBox=\"0 0 24 24\"\n",
              "       width=\"24px\">\n",
              "    <path d=\"M0 0h24v24H0V0z\" fill=\"none\"/>\n",
              "    <path d=\"M18.56 5.44l.94 2.06.94-2.06 2.06-.94-2.06-.94-.94-2.06-.94 2.06-2.06.94zm-11 1L8.5 8.5l.94-2.06 2.06-.94-2.06-.94L8.5 2.5l-.94 2.06-2.06.94zm10 10l.94 2.06.94-2.06 2.06-.94-2.06-.94-.94-2.06-.94 2.06-2.06.94z\"/><path d=\"M17.41 7.96l-1.37-1.37c-.4-.4-.92-.59-1.43-.59-.52 0-1.04.2-1.43.59L10.3 9.45l-7.72 7.72c-.78.78-.78 2.05 0 2.83L4 21.41c.39.39.9.59 1.41.59.51 0 1.02-.2 1.41-.59l7.78-7.78 2.81-2.81c.8-.78.8-2.07 0-2.86zM5.41 20L4 18.59l7.72-7.72 1.47 1.35L5.41 20z\"/>\n",
              "  </svg>\n",
              "      </button>\n",
              "      \n",
              "  <style>\n",
              "    .colab-df-container {\n",
              "      display:flex;\n",
              "      flex-wrap:wrap;\n",
              "      gap: 12px;\n",
              "    }\n",
              "\n",
              "    .colab-df-convert {\n",
              "      background-color: #E8F0FE;\n",
              "      border: none;\n",
              "      border-radius: 50%;\n",
              "      cursor: pointer;\n",
              "      display: none;\n",
              "      fill: #1967D2;\n",
              "      height: 32px;\n",
              "      padding: 0 0 0 0;\n",
              "      width: 32px;\n",
              "    }\n",
              "\n",
              "    .colab-df-convert:hover {\n",
              "      background-color: #E2EBFA;\n",
              "      box-shadow: 0px 1px 2px rgba(60, 64, 67, 0.3), 0px 1px 3px 1px rgba(60, 64, 67, 0.15);\n",
              "      fill: #174EA6;\n",
              "    }\n",
              "\n",
              "    [theme=dark] .colab-df-convert {\n",
              "      background-color: #3B4455;\n",
              "      fill: #D2E3FC;\n",
              "    }\n",
              "\n",
              "    [theme=dark] .colab-df-convert:hover {\n",
              "      background-color: #434B5C;\n",
              "      box-shadow: 0px 1px 3px 1px rgba(0, 0, 0, 0.15);\n",
              "      filter: drop-shadow(0px 1px 2px rgba(0, 0, 0, 0.3));\n",
              "      fill: #FFFFFF;\n",
              "    }\n",
              "  </style>\n",
              "\n",
              "      <script>\n",
              "        const buttonEl =\n",
              "          document.querySelector('#df-247d16c1-6a76-4393-8722-f17778a90364 button.colab-df-convert');\n",
              "        buttonEl.style.display =\n",
              "          google.colab.kernel.accessAllowed ? 'block' : 'none';\n",
              "\n",
              "        async function convertToInteractive(key) {\n",
              "          const element = document.querySelector('#df-247d16c1-6a76-4393-8722-f17778a90364');\n",
              "          const dataTable =\n",
              "            await google.colab.kernel.invokeFunction('convertToInteractive',\n",
              "                                                     [key], {});\n",
              "          if (!dataTable) return;\n",
              "\n",
              "          const docLinkHtml = 'Like what you see? Visit the ' +\n",
              "            '<a target=\"_blank\" href=https://colab.research.google.com/notebooks/data_table.ipynb>data table notebook</a>'\n",
              "            + ' to learn more about interactive tables.';\n",
              "          element.innerHTML = '';\n",
              "          dataTable['output_type'] = 'display_data';\n",
              "          await google.colab.output.renderOutput(dataTable, element);\n",
              "          const docLink = document.createElement('div');\n",
              "          docLink.innerHTML = docLinkHtml;\n",
              "          element.appendChild(docLink);\n",
              "        }\n",
              "      </script>\n",
              "    </div>\n",
              "  </div>\n",
              "  "
            ]
          },
          "metadata": {},
          "execution_count": 10
        }
      ]
    },
    {
      "cell_type": "code",
      "execution_count": 11,
      "metadata": {
        "id": "4jnPORxImLZX"
      },
      "outputs": [],
      "source": [
        "#getting attributes from attributes df and joining to train df\n",
        "def getAttributes(product_id):\n",
        "    #get product_attributes based on product_uid\n",
        "    att = attributes_df[attributes_df[\"product_uid\"]==product_id][[\"name\",\"value\"]]\n",
        "    att_1 = att.apply(lambda x : f'{x[\"name\"]} {x[\"value\"]}',axis=1)\n",
        "    temp = \" \".join(att_1.values.tolist())\n",
        "    return temp\n"
      ]
    },
    {
      "cell_type": "code",
      "execution_count": 12,
      "metadata": {
        "id": "RyZ9pitmmOSz",
        "colab": {
          "base_uri": "https://localhost:8080/",
          "height": 496
        },
        "outputId": "00986f72-70d8-440e-eaee-9d6b0ceac86c"
      },
      "outputs": [
        {
          "output_type": "execute_result",
          "data": {
            "text/plain": [
              "   id  product_uid                                      product_title  \\\n",
              "0   2       100001                  Simpson Strong-Tie 12-Gauge Angle   \n",
              "1   3       100001                  Simpson Strong-Tie 12-Gauge Angle   \n",
              "2   9       100002  BEHR Premium Textured DeckOver 1-gal. #SC-141 ...   \n",
              "3  16       100005  Delta Vero 1-Handle Shower Only Faucet Trim Ki...   \n",
              "4  17       100005  Delta Vero 1-Handle Shower Only Faucet Trim Ki...   \n",
              "\n",
              "          search_term  relevance  \\\n",
              "0       angle bracket       3.00   \n",
              "1           l bracket       2.50   \n",
              "2           deck over       3.00   \n",
              "3    rain shower head       2.33   \n",
              "4  shower only faucet       2.67   \n",
              "\n",
              "                                  preprocessed_title  \\\n",
              "0           [simpson, strong, tie, 12, gauge, angle]   \n",
              "1           [simpson, strong, tie, 12, gauge, angle]   \n",
              "2  [behr, premium, textured, deckover, 1, gal, sc...   \n",
              "3  [delta, vero, 1, handle, shower, faucet, trim,...   \n",
              "4  [delta, vero, 1, handle, shower, faucet, trim,...   \n",
              "\n",
              "                                 product_description  \\\n",
              "0  Not only do angles make joints stronger, they ...   \n",
              "1  Not only do angles make joints stronger, they ...   \n",
              "2  BEHR Premium Textured DECKOVER is an innovativ...   \n",
              "3  Update your bathroom with the Delta Vero Singl...   \n",
              "4  Update your bathroom with the Delta Vero Singl...   \n",
              "\n",
              "                            preprocessed_description  \\\n",
              "0  [angle, make, joint, stronger, also, provide, ...   \n",
              "1  [angle, make, joint, stronger, also, provide, ...   \n",
              "2  [behr, premium, textured, deckover, innovative...   \n",
              "3  [update, bathroom, delta, vero, single, handle...   \n",
              "4  [update, bathroom, delta, vero, single, handle...   \n",
              "\n",
              "                                  product_attributes  \n",
              "0  Bullet01 Versatile connector for various 90° c...  \n",
              "1  Bullet01 Versatile connector for various 90° c...  \n",
              "2  Application Method Brush,Roller,Spray Assemble...  \n",
              "3  Bath Faucet Type Combo Tub and Shower Built-in...  \n",
              "4  Bath Faucet Type Combo Tub and Shower Built-in...  "
            ],
            "text/html": [
              "\n",
              "  <div id=\"df-354eb4ab-515a-4284-94c5-f66edc9e254c\">\n",
              "    <div class=\"colab-df-container\">\n",
              "      <div>\n",
              "<style scoped>\n",
              "    .dataframe tbody tr th:only-of-type {\n",
              "        vertical-align: middle;\n",
              "    }\n",
              "\n",
              "    .dataframe tbody tr th {\n",
              "        vertical-align: top;\n",
              "    }\n",
              "\n",
              "    .dataframe thead th {\n",
              "        text-align: right;\n",
              "    }\n",
              "</style>\n",
              "<table border=\"1\" class=\"dataframe\">\n",
              "  <thead>\n",
              "    <tr style=\"text-align: right;\">\n",
              "      <th></th>\n",
              "      <th>id</th>\n",
              "      <th>product_uid</th>\n",
              "      <th>product_title</th>\n",
              "      <th>search_term</th>\n",
              "      <th>relevance</th>\n",
              "      <th>preprocessed_title</th>\n",
              "      <th>product_description</th>\n",
              "      <th>preprocessed_description</th>\n",
              "      <th>product_attributes</th>\n",
              "    </tr>\n",
              "  </thead>\n",
              "  <tbody>\n",
              "    <tr>\n",
              "      <th>0</th>\n",
              "      <td>2</td>\n",
              "      <td>100001</td>\n",
              "      <td>Simpson Strong-Tie 12-Gauge Angle</td>\n",
              "      <td>angle bracket</td>\n",
              "      <td>3.00</td>\n",
              "      <td>[simpson, strong, tie, 12, gauge, angle]</td>\n",
              "      <td>Not only do angles make joints stronger, they ...</td>\n",
              "      <td>[angle, make, joint, stronger, also, provide, ...</td>\n",
              "      <td>Bullet01 Versatile connector for various 90° c...</td>\n",
              "    </tr>\n",
              "    <tr>\n",
              "      <th>1</th>\n",
              "      <td>3</td>\n",
              "      <td>100001</td>\n",
              "      <td>Simpson Strong-Tie 12-Gauge Angle</td>\n",
              "      <td>l bracket</td>\n",
              "      <td>2.50</td>\n",
              "      <td>[simpson, strong, tie, 12, gauge, angle]</td>\n",
              "      <td>Not only do angles make joints stronger, they ...</td>\n",
              "      <td>[angle, make, joint, stronger, also, provide, ...</td>\n",
              "      <td>Bullet01 Versatile connector for various 90° c...</td>\n",
              "    </tr>\n",
              "    <tr>\n",
              "      <th>2</th>\n",
              "      <td>9</td>\n",
              "      <td>100002</td>\n",
              "      <td>BEHR Premium Textured DeckOver 1-gal. #SC-141 ...</td>\n",
              "      <td>deck over</td>\n",
              "      <td>3.00</td>\n",
              "      <td>[behr, premium, textured, deckover, 1, gal, sc...</td>\n",
              "      <td>BEHR Premium Textured DECKOVER is an innovativ...</td>\n",
              "      <td>[behr, premium, textured, deckover, innovative...</td>\n",
              "      <td>Application Method Brush,Roller,Spray Assemble...</td>\n",
              "    </tr>\n",
              "    <tr>\n",
              "      <th>3</th>\n",
              "      <td>16</td>\n",
              "      <td>100005</td>\n",
              "      <td>Delta Vero 1-Handle Shower Only Faucet Trim Ki...</td>\n",
              "      <td>rain shower head</td>\n",
              "      <td>2.33</td>\n",
              "      <td>[delta, vero, 1, handle, shower, faucet, trim,...</td>\n",
              "      <td>Update your bathroom with the Delta Vero Singl...</td>\n",
              "      <td>[update, bathroom, delta, vero, single, handle...</td>\n",
              "      <td>Bath Faucet Type Combo Tub and Shower Built-in...</td>\n",
              "    </tr>\n",
              "    <tr>\n",
              "      <th>4</th>\n",
              "      <td>17</td>\n",
              "      <td>100005</td>\n",
              "      <td>Delta Vero 1-Handle Shower Only Faucet Trim Ki...</td>\n",
              "      <td>shower only faucet</td>\n",
              "      <td>2.67</td>\n",
              "      <td>[delta, vero, 1, handle, shower, faucet, trim,...</td>\n",
              "      <td>Update your bathroom with the Delta Vero Singl...</td>\n",
              "      <td>[update, bathroom, delta, vero, single, handle...</td>\n",
              "      <td>Bath Faucet Type Combo Tub and Shower Built-in...</td>\n",
              "    </tr>\n",
              "  </tbody>\n",
              "</table>\n",
              "</div>\n",
              "      <button class=\"colab-df-convert\" onclick=\"convertToInteractive('df-354eb4ab-515a-4284-94c5-f66edc9e254c')\"\n",
              "              title=\"Convert this dataframe to an interactive table.\"\n",
              "              style=\"display:none;\">\n",
              "        \n",
              "  <svg xmlns=\"http://www.w3.org/2000/svg\" height=\"24px\"viewBox=\"0 0 24 24\"\n",
              "       width=\"24px\">\n",
              "    <path d=\"M0 0h24v24H0V0z\" fill=\"none\"/>\n",
              "    <path d=\"M18.56 5.44l.94 2.06.94-2.06 2.06-.94-2.06-.94-.94-2.06-.94 2.06-2.06.94zm-11 1L8.5 8.5l.94-2.06 2.06-.94-2.06-.94L8.5 2.5l-.94 2.06-2.06.94zm10 10l.94 2.06.94-2.06 2.06-.94-2.06-.94-.94-2.06-.94 2.06-2.06.94z\"/><path d=\"M17.41 7.96l-1.37-1.37c-.4-.4-.92-.59-1.43-.59-.52 0-1.04.2-1.43.59L10.3 9.45l-7.72 7.72c-.78.78-.78 2.05 0 2.83L4 21.41c.39.39.9.59 1.41.59.51 0 1.02-.2 1.41-.59l7.78-7.78 2.81-2.81c.8-.78.8-2.07 0-2.86zM5.41 20L4 18.59l7.72-7.72 1.47 1.35L5.41 20z\"/>\n",
              "  </svg>\n",
              "      </button>\n",
              "      \n",
              "  <style>\n",
              "    .colab-df-container {\n",
              "      display:flex;\n",
              "      flex-wrap:wrap;\n",
              "      gap: 12px;\n",
              "    }\n",
              "\n",
              "    .colab-df-convert {\n",
              "      background-color: #E8F0FE;\n",
              "      border: none;\n",
              "      border-radius: 50%;\n",
              "      cursor: pointer;\n",
              "      display: none;\n",
              "      fill: #1967D2;\n",
              "      height: 32px;\n",
              "      padding: 0 0 0 0;\n",
              "      width: 32px;\n",
              "    }\n",
              "\n",
              "    .colab-df-convert:hover {\n",
              "      background-color: #E2EBFA;\n",
              "      box-shadow: 0px 1px 2px rgba(60, 64, 67, 0.3), 0px 1px 3px 1px rgba(60, 64, 67, 0.15);\n",
              "      fill: #174EA6;\n",
              "    }\n",
              "\n",
              "    [theme=dark] .colab-df-convert {\n",
              "      background-color: #3B4455;\n",
              "      fill: #D2E3FC;\n",
              "    }\n",
              "\n",
              "    [theme=dark] .colab-df-convert:hover {\n",
              "      background-color: #434B5C;\n",
              "      box-shadow: 0px 1px 3px 1px rgba(0, 0, 0, 0.15);\n",
              "      filter: drop-shadow(0px 1px 2px rgba(0, 0, 0, 0.3));\n",
              "      fill: #FFFFFF;\n",
              "    }\n",
              "  </style>\n",
              "\n",
              "      <script>\n",
              "        const buttonEl =\n",
              "          document.querySelector('#df-354eb4ab-515a-4284-94c5-f66edc9e254c button.colab-df-convert');\n",
              "        buttonEl.style.display =\n",
              "          google.colab.kernel.accessAllowed ? 'block' : 'none';\n",
              "\n",
              "        async function convertToInteractive(key) {\n",
              "          const element = document.querySelector('#df-354eb4ab-515a-4284-94c5-f66edc9e254c');\n",
              "          const dataTable =\n",
              "            await google.colab.kernel.invokeFunction('convertToInteractive',\n",
              "                                                     [key], {});\n",
              "          if (!dataTable) return;\n",
              "\n",
              "          const docLinkHtml = 'Like what you see? Visit the ' +\n",
              "            '<a target=\"_blank\" href=https://colab.research.google.com/notebooks/data_table.ipynb>data table notebook</a>'\n",
              "            + ' to learn more about interactive tables.';\n",
              "          element.innerHTML = '';\n",
              "          dataTable['output_type'] = 'display_data';\n",
              "          await google.colab.output.renderOutput(dataTable, element);\n",
              "          const docLink = document.createElement('div');\n",
              "          docLink.innerHTML = docLinkHtml;\n",
              "          element.appendChild(docLink);\n",
              "        }\n",
              "      </script>\n",
              "    </div>\n",
              "  </div>\n",
              "  "
            ]
          },
          "metadata": {},
          "execution_count": 12
        }
      ],
      "source": [
        "train_df[\"product_attributes\"] =  train_df[\"product_uid\"].astype(int).apply(lambda x: getAttributes(x))\n",
        "train_df.head()"
      ]
    },
    {
      "cell_type": "code",
      "execution_count": 13,
      "metadata": {
        "id": "sz4WurwSmSBj",
        "colab": {
          "base_uri": "https://localhost:8080/",
          "height": 496
        },
        "outputId": "80793857-e8a0-4289-e13d-ecaa3ca6444c"
      },
      "outputs": [
        {
          "output_type": "execute_result",
          "data": {
            "text/plain": [
              "   id  product_uid                                      product_title  \\\n",
              "0   2       100001                  Simpson Strong-Tie 12-Gauge Angle   \n",
              "1   3       100001                  Simpson Strong-Tie 12-Gauge Angle   \n",
              "2   9       100002  BEHR Premium Textured DeckOver 1-gal. #SC-141 ...   \n",
              "3  16       100005  Delta Vero 1-Handle Shower Only Faucet Trim Ki...   \n",
              "4  17       100005  Delta Vero 1-Handle Shower Only Faucet Trim Ki...   \n",
              "\n",
              "          search_term  relevance  \\\n",
              "0       angle bracket       3.00   \n",
              "1           l bracket       2.50   \n",
              "2           deck over       3.00   \n",
              "3    rain shower head       2.33   \n",
              "4  shower only faucet       2.67   \n",
              "\n",
              "                                  preprocessed_title  \\\n",
              "0           [simpson, strong, tie, 12, gauge, angle]   \n",
              "1           [simpson, strong, tie, 12, gauge, angle]   \n",
              "2  [behr, premium, textured, deckover, 1, gal, sc...   \n",
              "3  [delta, vero, 1, handle, shower, faucet, trim,...   \n",
              "4  [delta, vero, 1, handle, shower, faucet, trim,...   \n",
              "\n",
              "                                 product_description  \\\n",
              "0  Not only do angles make joints stronger, they ...   \n",
              "1  Not only do angles make joints stronger, they ...   \n",
              "2  BEHR Premium Textured DECKOVER is an innovativ...   \n",
              "3  Update your bathroom with the Delta Vero Singl...   \n",
              "4  Update your bathroom with the Delta Vero Singl...   \n",
              "\n",
              "                            preprocessed_description  \\\n",
              "0  [angle, make, joint, stronger, also, provide, ...   \n",
              "1  [angle, make, joint, stronger, also, provide, ...   \n",
              "2  [behr, premium, textured, deckover, innovative...   \n",
              "3  [update, bathroom, delta, vero, single, handle...   \n",
              "4  [update, bathroom, delta, vero, single, handle...   \n",
              "\n",
              "                                  product_attributes  \n",
              "0  Bullet01 Versatile connector for various 90° c...  \n",
              "1  Bullet01 Versatile connector for various 90° c...  \n",
              "2  Application Method Brush,Roller,Spray Assemble...  \n",
              "3  Bath Faucet Type Combo Tub and Shower Built-in...  \n",
              "4  Bath Faucet Type Combo Tub and Shower Built-in...  "
            ],
            "text/html": [
              "\n",
              "  <div id=\"df-dc324a55-2e6e-4a01-a944-4d64b3cc1b84\">\n",
              "    <div class=\"colab-df-container\">\n",
              "      <div>\n",
              "<style scoped>\n",
              "    .dataframe tbody tr th:only-of-type {\n",
              "        vertical-align: middle;\n",
              "    }\n",
              "\n",
              "    .dataframe tbody tr th {\n",
              "        vertical-align: top;\n",
              "    }\n",
              "\n",
              "    .dataframe thead th {\n",
              "        text-align: right;\n",
              "    }\n",
              "</style>\n",
              "<table border=\"1\" class=\"dataframe\">\n",
              "  <thead>\n",
              "    <tr style=\"text-align: right;\">\n",
              "      <th></th>\n",
              "      <th>id</th>\n",
              "      <th>product_uid</th>\n",
              "      <th>product_title</th>\n",
              "      <th>search_term</th>\n",
              "      <th>relevance</th>\n",
              "      <th>preprocessed_title</th>\n",
              "      <th>product_description</th>\n",
              "      <th>preprocessed_description</th>\n",
              "      <th>product_attributes</th>\n",
              "    </tr>\n",
              "  </thead>\n",
              "  <tbody>\n",
              "    <tr>\n",
              "      <th>0</th>\n",
              "      <td>2</td>\n",
              "      <td>100001</td>\n",
              "      <td>Simpson Strong-Tie 12-Gauge Angle</td>\n",
              "      <td>angle bracket</td>\n",
              "      <td>3.00</td>\n",
              "      <td>[simpson, strong, tie, 12, gauge, angle]</td>\n",
              "      <td>Not only do angles make joints stronger, they ...</td>\n",
              "      <td>[angle, make, joint, stronger, also, provide, ...</td>\n",
              "      <td>Bullet01 Versatile connector for various 90° c...</td>\n",
              "    </tr>\n",
              "    <tr>\n",
              "      <th>1</th>\n",
              "      <td>3</td>\n",
              "      <td>100001</td>\n",
              "      <td>Simpson Strong-Tie 12-Gauge Angle</td>\n",
              "      <td>l bracket</td>\n",
              "      <td>2.50</td>\n",
              "      <td>[simpson, strong, tie, 12, gauge, angle]</td>\n",
              "      <td>Not only do angles make joints stronger, they ...</td>\n",
              "      <td>[angle, make, joint, stronger, also, provide, ...</td>\n",
              "      <td>Bullet01 Versatile connector for various 90° c...</td>\n",
              "    </tr>\n",
              "    <tr>\n",
              "      <th>2</th>\n",
              "      <td>9</td>\n",
              "      <td>100002</td>\n",
              "      <td>BEHR Premium Textured DeckOver 1-gal. #SC-141 ...</td>\n",
              "      <td>deck over</td>\n",
              "      <td>3.00</td>\n",
              "      <td>[behr, premium, textured, deckover, 1, gal, sc...</td>\n",
              "      <td>BEHR Premium Textured DECKOVER is an innovativ...</td>\n",
              "      <td>[behr, premium, textured, deckover, innovative...</td>\n",
              "      <td>Application Method Brush,Roller,Spray Assemble...</td>\n",
              "    </tr>\n",
              "    <tr>\n",
              "      <th>3</th>\n",
              "      <td>16</td>\n",
              "      <td>100005</td>\n",
              "      <td>Delta Vero 1-Handle Shower Only Faucet Trim Ki...</td>\n",
              "      <td>rain shower head</td>\n",
              "      <td>2.33</td>\n",
              "      <td>[delta, vero, 1, handle, shower, faucet, trim,...</td>\n",
              "      <td>Update your bathroom with the Delta Vero Singl...</td>\n",
              "      <td>[update, bathroom, delta, vero, single, handle...</td>\n",
              "      <td>Bath Faucet Type Combo Tub and Shower Built-in...</td>\n",
              "    </tr>\n",
              "    <tr>\n",
              "      <th>4</th>\n",
              "      <td>17</td>\n",
              "      <td>100005</td>\n",
              "      <td>Delta Vero 1-Handle Shower Only Faucet Trim Ki...</td>\n",
              "      <td>shower only faucet</td>\n",
              "      <td>2.67</td>\n",
              "      <td>[delta, vero, 1, handle, shower, faucet, trim,...</td>\n",
              "      <td>Update your bathroom with the Delta Vero Singl...</td>\n",
              "      <td>[update, bathroom, delta, vero, single, handle...</td>\n",
              "      <td>Bath Faucet Type Combo Tub and Shower Built-in...</td>\n",
              "    </tr>\n",
              "  </tbody>\n",
              "</table>\n",
              "</div>\n",
              "      <button class=\"colab-df-convert\" onclick=\"convertToInteractive('df-dc324a55-2e6e-4a01-a944-4d64b3cc1b84')\"\n",
              "              title=\"Convert this dataframe to an interactive table.\"\n",
              "              style=\"display:none;\">\n",
              "        \n",
              "  <svg xmlns=\"http://www.w3.org/2000/svg\" height=\"24px\"viewBox=\"0 0 24 24\"\n",
              "       width=\"24px\">\n",
              "    <path d=\"M0 0h24v24H0V0z\" fill=\"none\"/>\n",
              "    <path d=\"M18.56 5.44l.94 2.06.94-2.06 2.06-.94-2.06-.94-.94-2.06-.94 2.06-2.06.94zm-11 1L8.5 8.5l.94-2.06 2.06-.94-2.06-.94L8.5 2.5l-.94 2.06-2.06.94zm10 10l.94 2.06.94-2.06 2.06-.94-2.06-.94-.94-2.06-.94 2.06-2.06.94z\"/><path d=\"M17.41 7.96l-1.37-1.37c-.4-.4-.92-.59-1.43-.59-.52 0-1.04.2-1.43.59L10.3 9.45l-7.72 7.72c-.78.78-.78 2.05 0 2.83L4 21.41c.39.39.9.59 1.41.59.51 0 1.02-.2 1.41-.59l7.78-7.78 2.81-2.81c.8-.78.8-2.07 0-2.86zM5.41 20L4 18.59l7.72-7.72 1.47 1.35L5.41 20z\"/>\n",
              "  </svg>\n",
              "      </button>\n",
              "      \n",
              "  <style>\n",
              "    .colab-df-container {\n",
              "      display:flex;\n",
              "      flex-wrap:wrap;\n",
              "      gap: 12px;\n",
              "    }\n",
              "\n",
              "    .colab-df-convert {\n",
              "      background-color: #E8F0FE;\n",
              "      border: none;\n",
              "      border-radius: 50%;\n",
              "      cursor: pointer;\n",
              "      display: none;\n",
              "      fill: #1967D2;\n",
              "      height: 32px;\n",
              "      padding: 0 0 0 0;\n",
              "      width: 32px;\n",
              "    }\n",
              "\n",
              "    .colab-df-convert:hover {\n",
              "      background-color: #E2EBFA;\n",
              "      box-shadow: 0px 1px 2px rgba(60, 64, 67, 0.3), 0px 1px 3px 1px rgba(60, 64, 67, 0.15);\n",
              "      fill: #174EA6;\n",
              "    }\n",
              "\n",
              "    [theme=dark] .colab-df-convert {\n",
              "      background-color: #3B4455;\n",
              "      fill: #D2E3FC;\n",
              "    }\n",
              "\n",
              "    [theme=dark] .colab-df-convert:hover {\n",
              "      background-color: #434B5C;\n",
              "      box-shadow: 0px 1px 3px 1px rgba(0, 0, 0, 0.15);\n",
              "      filter: drop-shadow(0px 1px 2px rgba(0, 0, 0, 0.3));\n",
              "      fill: #FFFFFF;\n",
              "    }\n",
              "  </style>\n",
              "\n",
              "      <script>\n",
              "        const buttonEl =\n",
              "          document.querySelector('#df-dc324a55-2e6e-4a01-a944-4d64b3cc1b84 button.colab-df-convert');\n",
              "        buttonEl.style.display =\n",
              "          google.colab.kernel.accessAllowed ? 'block' : 'none';\n",
              "\n",
              "        async function convertToInteractive(key) {\n",
              "          const element = document.querySelector('#df-dc324a55-2e6e-4a01-a944-4d64b3cc1b84');\n",
              "          const dataTable =\n",
              "            await google.colab.kernel.invokeFunction('convertToInteractive',\n",
              "                                                     [key], {});\n",
              "          if (!dataTable) return;\n",
              "\n",
              "          const docLinkHtml = 'Like what you see? Visit the ' +\n",
              "            '<a target=\"_blank\" href=https://colab.research.google.com/notebooks/data_table.ipynb>data table notebook</a>'\n",
              "            + ' to learn more about interactive tables.';\n",
              "          element.innerHTML = '';\n",
              "          dataTable['output_type'] = 'display_data';\n",
              "          await google.colab.output.renderOutput(dataTable, element);\n",
              "          const docLink = document.createElement('div');\n",
              "          docLink.innerHTML = docLinkHtml;\n",
              "          element.appendChild(docLink);\n",
              "        }\n",
              "      </script>\n",
              "    </div>\n",
              "  </div>\n",
              "  "
            ]
          },
          "metadata": {},
          "execution_count": 13
        }
      ],
      "source": [
        "#CSV with preprocessed_title, preprocessed_description and product_attributes\n",
        "train_df.to_csv(\"prepared_data.csv\",index=False)\n",
        "train_df.head()"
      ]
    },
    {
      "cell_type": "code",
      "execution_count": 14,
      "metadata": {
        "id": "utr9mdBWmVzU"
      },
      "outputs": [],
      "source": [
        "#df for preprocessed_title, preprocessed_description and product_attributes\n",
        "train_df[\"preprocessed_title\"] = train_df[\"preprocessed_title\"].apply(lambda x: \" \".join(x))\n",
        "train_df[\"preprocessed_description\"] = train_df[\"preprocessed_description\"].apply(lambda x: \" \".join(x))\n",
        "train_df[\"preprocessed_attributes\"] = train_df[\"product_attributes\"].apply(lambda x: preprocesser.apply(x))"
      ]
    },
    {
      "cell_type": "code",
      "execution_count": 15,
      "metadata": {
        "id": "bFWBgIuW9iNh",
        "colab": {
          "base_uri": "https://localhost:8080/",
          "height": 496
        },
        "outputId": "1c690757-b4fd-4360-fe22-98f9c87925fd"
      },
      "outputs": [
        {
          "output_type": "execute_result",
          "data": {
            "text/plain": [
              "   id  product_uid                                      product_title  \\\n",
              "0   2       100001                  Simpson Strong-Tie 12-Gauge Angle   \n",
              "1   3       100001                  Simpson Strong-Tie 12-Gauge Angle   \n",
              "2   9       100002  BEHR Premium Textured DeckOver 1-gal. #SC-141 ...   \n",
              "3  16       100005  Delta Vero 1-Handle Shower Only Faucet Trim Ki...   \n",
              "4  17       100005  Delta Vero 1-Handle Shower Only Faucet Trim Ki...   \n",
              "\n",
              "          search_term  relevance  \\\n",
              "0       angle bracket       3.00   \n",
              "1           l bracket       2.50   \n",
              "2           deck over       3.00   \n",
              "3    rain shower head       2.33   \n",
              "4  shower only faucet       2.67   \n",
              "\n",
              "                                  preprocessed_title  \\\n",
              "0                  simpson strong tie 12 gauge angle   \n",
              "1                  simpson strong tie 12 gauge angle   \n",
              "2  behr premium textured deckover 1 gal sc 141 tu...   \n",
              "3  delta vero 1 handle shower faucet trim kit chr...   \n",
              "4  delta vero 1 handle shower faucet trim kit chr...   \n",
              "\n",
              "                                 product_description  \\\n",
              "0  Not only do angles make joints stronger, they ...   \n",
              "1  Not only do angles make joints stronger, they ...   \n",
              "2  BEHR Premium Textured DECKOVER is an innovativ...   \n",
              "3  Update your bathroom with the Delta Vero Singl...   \n",
              "4  Update your bathroom with the Delta Vero Singl...   \n",
              "\n",
              "                            preprocessed_description  \\\n",
              "0  angle make joint stronger also provide consist...   \n",
              "1  angle make joint stronger also provide consist...   \n",
              "2  behr premium textured deckover innovative soli...   \n",
              "3  update bathroom delta vero single handle showe...   \n",
              "4  update bathroom delta vero single handle showe...   \n",
              "\n",
              "                                  product_attributes  \\\n",
              "0  Bullet01 Versatile connector for various 90° c...   \n",
              "1  Bullet01 Versatile connector for various 90° c...   \n",
              "2  Application Method Brush,Roller,Spray Assemble...   \n",
              "3  Bath Faucet Type Combo Tub and Shower Built-in...   \n",
              "4  Bath Faucet Type Combo Tub and Shower Built-in...   \n",
              "\n",
              "                             preprocessed_attributes  \n",
              "0  bullet01 versatile connector for various 90° c...  \n",
              "1  bullet01 versatile connector for various 90° c...  \n",
              "2  application method brush roller spray assemble...  \n",
              "3  bath faucet type combo tub and shower built in...  \n",
              "4  bath faucet type combo tub and shower built in...  "
            ],
            "text/html": [
              "\n",
              "  <div id=\"df-06fd05dd-cf1e-4e80-b5a1-0dadb28dd229\">\n",
              "    <div class=\"colab-df-container\">\n",
              "      <div>\n",
              "<style scoped>\n",
              "    .dataframe tbody tr th:only-of-type {\n",
              "        vertical-align: middle;\n",
              "    }\n",
              "\n",
              "    .dataframe tbody tr th {\n",
              "        vertical-align: top;\n",
              "    }\n",
              "\n",
              "    .dataframe thead th {\n",
              "        text-align: right;\n",
              "    }\n",
              "</style>\n",
              "<table border=\"1\" class=\"dataframe\">\n",
              "  <thead>\n",
              "    <tr style=\"text-align: right;\">\n",
              "      <th></th>\n",
              "      <th>id</th>\n",
              "      <th>product_uid</th>\n",
              "      <th>product_title</th>\n",
              "      <th>search_term</th>\n",
              "      <th>relevance</th>\n",
              "      <th>preprocessed_title</th>\n",
              "      <th>product_description</th>\n",
              "      <th>preprocessed_description</th>\n",
              "      <th>product_attributes</th>\n",
              "      <th>preprocessed_attributes</th>\n",
              "    </tr>\n",
              "  </thead>\n",
              "  <tbody>\n",
              "    <tr>\n",
              "      <th>0</th>\n",
              "      <td>2</td>\n",
              "      <td>100001</td>\n",
              "      <td>Simpson Strong-Tie 12-Gauge Angle</td>\n",
              "      <td>angle bracket</td>\n",
              "      <td>3.00</td>\n",
              "      <td>simpson strong tie 12 gauge angle</td>\n",
              "      <td>Not only do angles make joints stronger, they ...</td>\n",
              "      <td>angle make joint stronger also provide consist...</td>\n",
              "      <td>Bullet01 Versatile connector for various 90° c...</td>\n",
              "      <td>bullet01 versatile connector for various 90° c...</td>\n",
              "    </tr>\n",
              "    <tr>\n",
              "      <th>1</th>\n",
              "      <td>3</td>\n",
              "      <td>100001</td>\n",
              "      <td>Simpson Strong-Tie 12-Gauge Angle</td>\n",
              "      <td>l bracket</td>\n",
              "      <td>2.50</td>\n",
              "      <td>simpson strong tie 12 gauge angle</td>\n",
              "      <td>Not only do angles make joints stronger, they ...</td>\n",
              "      <td>angle make joint stronger also provide consist...</td>\n",
              "      <td>Bullet01 Versatile connector for various 90° c...</td>\n",
              "      <td>bullet01 versatile connector for various 90° c...</td>\n",
              "    </tr>\n",
              "    <tr>\n",
              "      <th>2</th>\n",
              "      <td>9</td>\n",
              "      <td>100002</td>\n",
              "      <td>BEHR Premium Textured DeckOver 1-gal. #SC-141 ...</td>\n",
              "      <td>deck over</td>\n",
              "      <td>3.00</td>\n",
              "      <td>behr premium textured deckover 1 gal sc 141 tu...</td>\n",
              "      <td>BEHR Premium Textured DECKOVER is an innovativ...</td>\n",
              "      <td>behr premium textured deckover innovative soli...</td>\n",
              "      <td>Application Method Brush,Roller,Spray Assemble...</td>\n",
              "      <td>application method brush roller spray assemble...</td>\n",
              "    </tr>\n",
              "    <tr>\n",
              "      <th>3</th>\n",
              "      <td>16</td>\n",
              "      <td>100005</td>\n",
              "      <td>Delta Vero 1-Handle Shower Only Faucet Trim Ki...</td>\n",
              "      <td>rain shower head</td>\n",
              "      <td>2.33</td>\n",
              "      <td>delta vero 1 handle shower faucet trim kit chr...</td>\n",
              "      <td>Update your bathroom with the Delta Vero Singl...</td>\n",
              "      <td>update bathroom delta vero single handle showe...</td>\n",
              "      <td>Bath Faucet Type Combo Tub and Shower Built-in...</td>\n",
              "      <td>bath faucet type combo tub and shower built in...</td>\n",
              "    </tr>\n",
              "    <tr>\n",
              "      <th>4</th>\n",
              "      <td>17</td>\n",
              "      <td>100005</td>\n",
              "      <td>Delta Vero 1-Handle Shower Only Faucet Trim Ki...</td>\n",
              "      <td>shower only faucet</td>\n",
              "      <td>2.67</td>\n",
              "      <td>delta vero 1 handle shower faucet trim kit chr...</td>\n",
              "      <td>Update your bathroom with the Delta Vero Singl...</td>\n",
              "      <td>update bathroom delta vero single handle showe...</td>\n",
              "      <td>Bath Faucet Type Combo Tub and Shower Built-in...</td>\n",
              "      <td>bath faucet type combo tub and shower built in...</td>\n",
              "    </tr>\n",
              "  </tbody>\n",
              "</table>\n",
              "</div>\n",
              "      <button class=\"colab-df-convert\" onclick=\"convertToInteractive('df-06fd05dd-cf1e-4e80-b5a1-0dadb28dd229')\"\n",
              "              title=\"Convert this dataframe to an interactive table.\"\n",
              "              style=\"display:none;\">\n",
              "        \n",
              "  <svg xmlns=\"http://www.w3.org/2000/svg\" height=\"24px\"viewBox=\"0 0 24 24\"\n",
              "       width=\"24px\">\n",
              "    <path d=\"M0 0h24v24H0V0z\" fill=\"none\"/>\n",
              "    <path d=\"M18.56 5.44l.94 2.06.94-2.06 2.06-.94-2.06-.94-.94-2.06-.94 2.06-2.06.94zm-11 1L8.5 8.5l.94-2.06 2.06-.94-2.06-.94L8.5 2.5l-.94 2.06-2.06.94zm10 10l.94 2.06.94-2.06 2.06-.94-2.06-.94-.94-2.06-.94 2.06-2.06.94z\"/><path d=\"M17.41 7.96l-1.37-1.37c-.4-.4-.92-.59-1.43-.59-.52 0-1.04.2-1.43.59L10.3 9.45l-7.72 7.72c-.78.78-.78 2.05 0 2.83L4 21.41c.39.39.9.59 1.41.59.51 0 1.02-.2 1.41-.59l7.78-7.78 2.81-2.81c.8-.78.8-2.07 0-2.86zM5.41 20L4 18.59l7.72-7.72 1.47 1.35L5.41 20z\"/>\n",
              "  </svg>\n",
              "      </button>\n",
              "      \n",
              "  <style>\n",
              "    .colab-df-container {\n",
              "      display:flex;\n",
              "      flex-wrap:wrap;\n",
              "      gap: 12px;\n",
              "    }\n",
              "\n",
              "    .colab-df-convert {\n",
              "      background-color: #E8F0FE;\n",
              "      border: none;\n",
              "      border-radius: 50%;\n",
              "      cursor: pointer;\n",
              "      display: none;\n",
              "      fill: #1967D2;\n",
              "      height: 32px;\n",
              "      padding: 0 0 0 0;\n",
              "      width: 32px;\n",
              "    }\n",
              "\n",
              "    .colab-df-convert:hover {\n",
              "      background-color: #E2EBFA;\n",
              "      box-shadow: 0px 1px 2px rgba(60, 64, 67, 0.3), 0px 1px 3px 1px rgba(60, 64, 67, 0.15);\n",
              "      fill: #174EA6;\n",
              "    }\n",
              "\n",
              "    [theme=dark] .colab-df-convert {\n",
              "      background-color: #3B4455;\n",
              "      fill: #D2E3FC;\n",
              "    }\n",
              "\n",
              "    [theme=dark] .colab-df-convert:hover {\n",
              "      background-color: #434B5C;\n",
              "      box-shadow: 0px 1px 3px 1px rgba(0, 0, 0, 0.15);\n",
              "      filter: drop-shadow(0px 1px 2px rgba(0, 0, 0, 0.3));\n",
              "      fill: #FFFFFF;\n",
              "    }\n",
              "  </style>\n",
              "\n",
              "      <script>\n",
              "        const buttonEl =\n",
              "          document.querySelector('#df-06fd05dd-cf1e-4e80-b5a1-0dadb28dd229 button.colab-df-convert');\n",
              "        buttonEl.style.display =\n",
              "          google.colab.kernel.accessAllowed ? 'block' : 'none';\n",
              "\n",
              "        async function convertToInteractive(key) {\n",
              "          const element = document.querySelector('#df-06fd05dd-cf1e-4e80-b5a1-0dadb28dd229');\n",
              "          const dataTable =\n",
              "            await google.colab.kernel.invokeFunction('convertToInteractive',\n",
              "                                                     [key], {});\n",
              "          if (!dataTable) return;\n",
              "\n",
              "          const docLinkHtml = 'Like what you see? Visit the ' +\n",
              "            '<a target=\"_blank\" href=https://colab.research.google.com/notebooks/data_table.ipynb>data table notebook</a>'\n",
              "            + ' to learn more about interactive tables.';\n",
              "          element.innerHTML = '';\n",
              "          dataTable['output_type'] = 'display_data';\n",
              "          await google.colab.output.renderOutput(dataTable, element);\n",
              "          const docLink = document.createElement('div');\n",
              "          docLink.innerHTML = docLinkHtml;\n",
              "          element.appendChild(docLink);\n",
              "        }\n",
              "      </script>\n",
              "    </div>\n",
              "  </div>\n",
              "  "
            ]
          },
          "metadata": {},
          "execution_count": 15
        }
      ],
      "source": [
        "train_df.head()"
      ]
    },
    {
      "cell_type": "markdown",
      "source": [
        "####Data Split"
      ],
      "metadata": {
        "id": "wg54sS0QWL4r"
      }
    },
    {
      "cell_type": "code",
      "execution_count": 16,
      "metadata": {
        "id": "urxyqAT_mZsT",
        "colab": {
          "base_uri": "https://localhost:8080/"
        },
        "outputId": "8b47f123-2f09-4174-e9c7-511216db2566"
      },
      "outputs": [
        {
          "output_type": "stream",
          "name": "stdout",
          "text": [
            "The size of training set: 47402\n",
            "The size of validation set: 11851\n",
            "The size of test set: 14814\n"
          ]
        }
      ],
      "source": [
        "train, test = train_test_split(train_df,test_size=0.2) \n",
        "train, valid = train_test_split(train,test_size=0.2)\n",
        "print('The size of training set:', train.shape[0])\n",
        "print('The size of validation set:', valid.shape[0])\n",
        "print('The size of test set:', test.shape[0])"
      ]
    },
    {
      "cell_type": "markdown",
      "metadata": {
        "id": "NGw6GmrQ-FvL"
      },
      "source": [
        "####Encoding"
      ]
    },
    {
      "cell_type": "code",
      "source": [
        "#Initialize\n",
        "encoder_title = Tokenizer(oov_token=\"<ukn>\")\n",
        "encoder_title.fit_on_texts(train[\"preprocessed_title\"].values)\n",
        "\n",
        "encoder_descr = Tokenizer(oov_token=\"<ukn>\",num_words=10000)\n",
        "encoder_descr.fit_on_texts(train[\"preprocessed_description\"].values)\n",
        "\n",
        "encoder_attribute = Tokenizer(oov_token=\"<ukn>\",num_words=10000)\n",
        "encoder_attribute.fit_on_texts(train[\"preprocessed_attributes\"].values)\n",
        "\n",
        "encoder_search_term = Tokenizer(oov_token=\"<ukn>\")\n",
        "encoder_search_term.fit_on_texts(train[\"search_term\"].values)\n"
      ],
      "metadata": {
        "id": "y-_m9rbrXcW5"
      },
      "execution_count": 17,
      "outputs": []
    },
    {
      "cell_type": "code",
      "source": [
        "#Encoding train set\n",
        "train_titles = encoder_title.texts_to_sequences(train[\"preprocessed_title\"].values)\n",
        "train_descr = encoder_descr.texts_to_sequences(train[\"preprocessed_description\"].values)\n",
        "train_attribute = encoder_attribute.texts_to_sequences(train[\"preprocessed_attributes\"].values)\n",
        "train_search_term = encoder_search_term.texts_to_sequences(train[\"search_term\"].values)"
      ],
      "metadata": {
        "id": "v_M-xnE6XcN0"
      },
      "execution_count": 18,
      "outputs": []
    },
    {
      "cell_type": "code",
      "source": [
        "#Encoding validation set\n",
        "valid_titles = encoder_title.texts_to_sequences(valid[\"preprocessed_title\"].values)\n",
        "valid_descr = encoder_descr.texts_to_sequences(valid[\"preprocessed_description\"].values)\n",
        "valid_attribute = encoder_attribute.texts_to_sequences(valid[\"preprocessed_attributes\"].values)\n",
        "valid_search_term = encoder_search_term.texts_to_sequences(valid[\"search_term\"].values)"
      ],
      "metadata": {
        "id": "FjXe-DsfXccY"
      },
      "execution_count": 19,
      "outputs": []
    },
    {
      "cell_type": "code",
      "source": [
        "#Encoding test set\n",
        "test_titles = encoder_title.texts_to_sequences(test[\"preprocessed_title\"].values)\n",
        "test_descr = encoder_descr.texts_to_sequences(test[\"preprocessed_description\"].values)\n",
        "test_attribute = encoder_attribute.texts_to_sequences(test[\"preprocessed_attributes\"].values)\n",
        "test_search_term = encoder_search_term.texts_to_sequences(test[\"search_term\"].values)"
      ],
      "metadata": {
        "id": "JNAAbJZAXco3"
      },
      "execution_count": 20,
      "outputs": []
    },
    {
      "cell_type": "markdown",
      "source": [
        "####Feature Extraction"
      ],
      "metadata": {
        "id": "tMCGGIOLgeH2"
      }
    },
    {
      "cell_type": "code",
      "execution_count": 21,
      "metadata": {
        "id": "ccXUII-G-RbS",
        "colab": {
          "base_uri": "https://localhost:8080/"
        },
        "outputId": "50886b24-73ff-4def-ea62-888c0279adca"
      },
      "outputs": [
        {
          "output_type": "stream",
          "name": "stdout",
          "text": [
            "Maximum length of the titles: 29 \n",
            " description: 913 \n",
            " attribute: 1058 \n",
            " search term: 17\n"
          ]
        }
      ],
      "source": [
        "titles_length =  max([len(x) for x in train_titles])\n",
        "descr_length = np.sort([len(x) for x in  train_descr])\n",
        "desc_length = max(descr_length)\n",
        "attribute_length = np.sort([len(x) for x in train_attribute])\n",
        "att_length = max(attribute_length)\n",
        "search_term_length =  max([len(x) for x in train_search_term])\n",
        "print(\"Maximum length of the titles:\", titles_length, \"\\n description:\", desc_length, \"\\n attribute:\", att_length,\n",
        "      \"\\n search term:\", search_term_length)"
      ]
    },
    {
      "cell_type": "code",
      "execution_count": 22,
      "metadata": {
        "id": "_SQ2KryB-VbP",
        "colab": {
          "base_uri": "https://localhost:8080/",
          "height": 297
        },
        "outputId": "e199fafb-e517-49d5-8e7d-2e5f755314fb"
      },
      "outputs": [
        {
          "output_type": "execute_result",
          "data": {
            "text/plain": [
              "<matplotlib.legend.Legend at 0x7f2ab9431a50>"
            ]
          },
          "metadata": {},
          "execution_count": 22
        },
        {
          "output_type": "display_data",
          "data": {
            "text/plain": [
              "<Figure size 432x288 with 1 Axes>"
            ],
            "image/png": "[encoded data removed]"
          },
          "metadata": {
            "needs_background": "light"
          }
        }
      ],
      "source": [
        "#Plotting length of description and attributes\n",
        "plt.plot(descr_length,range(len(descr_length)))\n",
        "plt.plot(attribute_length,range(len(attribute_length)))\n",
        "plt.xlabel(\"length of text\")\n",
        "plt.ylabel(\"number of data points\")\n",
        "plt.legend([\"description\",\"attributes\"])"
      ]
    },
    {
      "cell_type": "markdown",
      "source": [
        "####Sequence Padding"
      ],
      "metadata": {
        "id": "Mv16WHh3gqH5"
      }
    },
    {
      "cell_type": "code",
      "source": [
        "#Padding train set\n",
        "train_titles = pad_sequences(train_titles, maxlen=titles_length)\n",
        "train_descr = pad_sequences(train_descr, maxlen=200,\n",
        "                                  truncating=\"post\")\n",
        "\n",
        "train_attribute = pad_sequences(train_attribute, maxlen=200,\n",
        "                                truncating=\"post\")\n",
        "\n",
        "train_search_term = pad_sequences(train_search_term, maxlen=search_term_length)\n"
      ],
      "metadata": {
        "id": "SRxxNQvdhSLc"
      },
      "execution_count": 23,
      "outputs": []
    },
    {
      "cell_type": "code",
      "source": [
        "#Padding valid set\n",
        "valid_titles = pad_sequences(valid_titles, maxlen=titles_length)\n",
        "valid_descr = pad_sequences(valid_descr,maxlen=200,\n",
        "                                  truncating=\"post\")\n",
        "\n",
        "valid_attribute = pad_sequences(valid_attribute, maxlen=200,\n",
        "                                truncating=\"post\")\n",
        "\n",
        "valid_search_term = pad_sequences(valid_search_term, maxlen=search_term_length)\n"
      ],
      "metadata": {
        "id": "9H7dYoPNhSPC"
      },
      "execution_count": 24,
      "outputs": []
    },
    {
      "cell_type": "code",
      "source": [
        "#Padding test set\n",
        "test_titles = pad_sequences(test_titles,maxlen=titles_length)\n",
        "test_descr = pad_sequences(test_descr,maxlen=200,\n",
        "                                 truncating=\"post\")\n",
        "\n",
        "test_attribute = pad_sequences(test_attribute,maxlen=200,\n",
        "                               truncating=\"post\")\n",
        "\n",
        "test_search_term = pad_sequences(test_search_term,maxlen=search_term_length)"
      ],
      "metadata": {
        "id": "G5GgOQx_hSTe"
      },
      "execution_count": 25,
      "outputs": []
    },
    {
      "cell_type": "code",
      "execution_count": 26,
      "metadata": {
        "id": "aLprk9bP-eTZ"
      },
      "outputs": [],
      "source": [
        "#Vocabulary Lengths\n",
        "title_vocab_len = len(encoder_title.word_index)\n",
        "descr_vocab_len = len(encoder_descr.word_index)\n",
        "attr_vocab_len = len(encoder_attribute.word_index)\n",
        "search_term_vocab_len = len(encoder_search_term.word_index)"
      ]
    },
    {
      "cell_type": "code",
      "source": [
        "print(\"Vocab Lengths title:\", title_vocab_len, \"\\n description:\", descr_vocab_len, \n",
        "      \"\\n attribute:\", attr_vocab_len, \"\\n search term: \", search_term_vocab_len)"
      ],
      "metadata": {
        "id": "wKbfkA3HlIvO",
        "colab": {
          "base_uri": "https://localhost:8080/"
        },
        "outputId": "489db1dd-2a95-4134-c1db-c6dd0b21b38f"
      },
      "execution_count": 27,
      "outputs": [
        {
          "output_type": "stream",
          "name": "stdout",
          "text": [
            "Vocab Lengths title: 15170 \n",
            " description: 131848 \n",
            " attribute: 29104 \n",
            " search term:  7638\n"
          ]
        }
      ]
    },
    {
      "cell_type": "markdown",
      "metadata": {
        "id": "9ZFuTW0iNae9"
      },
      "source": [
        "####Bi-LSTM Model"
      ]
    },
    {
      "cell_type": "code",
      "execution_count": 28,
      "metadata": {
        "id": "MH6xgLW1-gW9"
      },
      "outputs": [],
      "source": [
        "from keras import  backend\n",
        "backend.clear_session()"
      ]
    },
    {
      "cell_type": "markdown",
      "metadata": {
        "id": "cYh3pPDrNnZ1"
      },
      "source": [
        "Bidirectional LSTM\n"
      ]
    },
    {
      "cell_type": "code",
      "source": [
        "lstm_units = 100\n",
        "epochs = 20"
      ],
      "metadata": {
        "id": "8Xx7nkze19B-"
      },
      "execution_count": 29,
      "outputs": []
    },
    {
      "cell_type": "code",
      "execution_count": 30,
      "metadata": {
        "id": "r2pD3r3jNigh"
      },
      "outputs": [],
      "source": [
        "#bi LSTM\n",
        "#Product title - layers\n",
        "#shape of title is the length\n",
        "input_title = Input(shape=(titles_length))\n",
        "embedding_layer = Embedding(input_dim=(title_vocab_len+1), output_dim=50,input_length=titles_length)\n",
        "embedding_vectors = embedding_layer(input_title)\n",
        "lstm = Bidirectional(LSTM(lstm_units,return_sequences=True))(embedding_vectors)\n",
        "output_title = Bidirectional(LSTM(lstm_units))(lstm)"
      ]
    },
    {
      "cell_type": "code",
      "execution_count": 31,
      "metadata": {
        "id": "9jDonZxBNijd"
      },
      "outputs": [],
      "source": [
        "#Product description - layers\n",
        "#taking input shape of description 200\n",
        "input_description = Input(shape=(200))\n",
        "embedding_layer = Embedding(input_dim=(descr_vocab_len+1),output_dim=100,input_length=200)\n",
        "embedding_vectors = embedding_layer(input_description)\n",
        "lstm = Bidirectional(LSTM(lstm_units,return_sequences=True))(embedding_vectors)\n",
        "output_description = Bidirectional(LSTM(lstm_units))(lstm)"
      ]
    },
    {
      "cell_type": "code",
      "execution_count": 32,
      "metadata": {
        "id": "HDO2KNTWNimR"
      },
      "outputs": [],
      "source": [
        "#Product attribute - layers\n",
        "#taking input shape of attribute 200\n",
        "input_attribute = Input(shape=(200))\n",
        "embedding_layer = Embedding(input_dim=(attr_vocab_len+1),output_dim=100,input_length=200)\n",
        "embedding_vectors = embedding_layer(input_attribute)\n",
        "lstm = Bidirectional(LSTM(lstm_units,return_sequences=True))(embedding_vectors)\n",
        "output_attribute = Bidirectional(LSTM(lstm_units))(lstm)"
      ]
    },
    {
      "cell_type": "code",
      "execution_count": 33,
      "metadata": {
        "id": "mAdt39jRNxAY"
      },
      "outputs": [],
      "source": [
        "#Product title - layers\n",
        "#shape of title is the length\n",
        "input_search_term = Input(shape=(search_term_length))\n",
        "#embedding_layer = Embedding(input_dim=(search_term_vocab_len+1),output_dim=100,input_length=search_term_length)\n",
        "embedding_layer = Embedding(input_dim=(search_term_vocab_len+1),output_dim=100,input_length=search_term_length)\n",
        "embedding_vectors = embedding_layer(input_search_term)\n",
        "output_search_term = Bidirectional(LSTM(lstm_units))(embedding_vectors)"
      ]
    },
    {
      "cell_type": "code",
      "execution_count": 34,
      "metadata": {
        "id": "iZIbNR-cN3JG"
      },
      "outputs": [],
      "source": [
        "#Calculating cosine similarity\n",
        "#Merging title, description and attribute with search term one by one\n",
        "#normalise-->True\n",
        "#title cosine sim\n",
        "cosine_sim_title = Dot(axes=-1,normalize=True)([output_title,output_search_term])\n",
        "cosine_sim_attr = Dot(axes=-1,normalize=True)([output_attribute,output_search_term])\n",
        "cosine_sim_descr = Dot(axes=-1,normalize=True)([output_description,output_search_term])"
      ]
    },
    {
      "cell_type": "code",
      "execution_count": 35,
      "metadata": {
        "id": "_0hjKfojN4St"
      },
      "outputs": [],
      "source": [
        "#concatinating inputs of title, description and attribute \n",
        "#to feed into dense layer\n",
        "concat_input = concatenate([cosine_sim_title,cosine_sim_descr,cosine_sim_attr])\n",
        "inputs = Dense(10,activation=\"relu\")(concat_input)"
      ]
    },
    {
      "cell_type": "code",
      "execution_count": 36,
      "metadata": {
        "id": "5v9L0fZUOBmL"
      },
      "outputs": [],
      "source": [
        "#output layer\n",
        "output_layer = Dense(1,activation=\"linear\")(inputs)"
      ]
    },
    {
      "cell_type": "code",
      "execution_count": 37,
      "metadata": {
        "id": "Rvyxx68_OBnO"
      },
      "outputs": [],
      "source": [
        "#Model class\n",
        "model = Model(inputs=[input_title,input_description,input_attribute,input_search_term], outputs=output_layer)"
      ]
    },
    {
      "cell_type": "code",
      "execution_count": 38,
      "metadata": {
        "id": "1Vy_P9gTZK0S",
        "colab": {
          "base_uri": "https://localhost:8080/",
          "height": 389
        },
        "outputId": "62fe0b78-3021-46f3-efbf-c4faaef331e0"
      },
      "outputs": [
        {
          "output_type": "execute_result",
          "data": {
            "text/plain": [
              "<IPython.core.display.Image object>"
            ],
            "image/png": "[encoded data removed]"
          },
          "metadata": {},
          "execution_count": 38
        }
      ],
      "source": [
        "from keras.utils.vis_utils import plot_model\n",
        "\n",
        "                 "
      ]
    },
    {
      "cell_type": "code",
      "execution_count": 39,
      "metadata": {
        "id": "ScXISDr4OBsH"
      },
      "outputs": [],
      "source": [
        "#compile bi lstm model\n",
        "model.compile(\n",
        "    optimizer=Adam(learning_rate=0.001),loss='mse',\n",
        "    metrics=[RootMeanSquaredError()])"
      ]
    },
    {
      "cell_type": "code",
      "execution_count": 40,
      "metadata": {
        "id": "kJYwXBN9OBvT"
      },
      "outputs": [],
      "source": [
        "#predict relevance\n",
        "train_pred = train[\"relevance\"].values.reshape(-1,1)\n",
        "valid_pred = valid[\"relevance\"].values.reshape(-1,1)\n",
        "test_pred = test[\"relevance\"].values.reshape(-1,1)"
      ]
    },
    {
      "cell_type": "code",
      "source": [
        ""
      ],
      "metadata": {
        "id": "7FLN-HbgSUy9"
      },
      "execution_count": null,
      "outputs": []
    },
    {
      "cell_type": "markdown",
      "source": [
        "####model fit"
      ],
      "metadata": {
        "id": "16b-7BflSVM_"
      }
    },
    {
      "cell_type": "code",
      "source": [
        "history = model.fit(x=[train_titles,train_descr,train_attribute,train_search_term],\n",
        "                    y=train_pred,epochs=15,batch_size=1024,callbacks=[EarlyStopping(patience=2,restore_best_weights=True)] ,validation_data=(\n",
        "    [valid_titles,valid_descr,valid_attribute,valid_search_term],\n",
        "    valid_pred\n",
        "))"
      ],
      "metadata": {
        "id": "ZNyJbswLNmvF",
        "colab": {
          "base_uri": "https://localhost:8080/"
        },
        "outputId": "68c90ad2-5f4c-4cb3-ed31-2a61afa96204"
      },
      "execution_count": null,
      "outputs": [
        {
          "output_type": "stream",
          "name": "stdout",
          "text": [
            "Epoch 1/15\n",
            "47/47 [==============================] - 35s 744ms/step - loss: 1.4241 - root_mean_squared_error: 1.1933 - val_loss: 0.8177 - val_root_mean_squared_error: 0.9043\n",
            "Epoch 2/15\n",
            "47/47 [==============================] - 31s 664ms/step - loss: 0.5648 - root_mean_squared_error: 0.7515 - val_loss: 0.3855 - val_root_mean_squared_error: 0.6209\n",
            "Epoch 3/15\n",
            "47/47 [==============================] - 32s 685ms/step - loss: 0.3240 - root_mean_squared_error: 0.5692 - val_loss: 0.2948 - val_root_mean_squared_error: 0.5430\n",
            "Epoch 4/15\n",
            "47/47 [==============================] - 32s 691ms/step - loss: 0.2874 - root_mean_squared_error: 0.5361 - val_loss: 0.2881 - val_root_mean_squared_error: 0.5367\n",
            "Epoch 5/15\n",
            "47/47 [==============================] - 32s 682ms/step - loss: 0.2847 - root_mean_squared_error: 0.5335 - val_loss: 0.2840 - val_root_mean_squared_error: 0.5329\n",
            "Epoch 6/15\n",
            "47/47 [==============================] - 32s 687ms/step - loss: 0.2674 - root_mean_squared_error: 0.5171 - val_loss: 0.2597 - val_root_mean_squared_error: 0.5096\n",
            "Epoch 7/15\n",
            "47/47 [==============================] - 32s 688ms/step - loss: 0.2278 - root_mean_squared_error: 0.4773 - val_loss: 0.2451 - val_root_mean_squared_error: 0.4951\n",
            "Epoch 8/15\n",
            "47/47 [==============================] - 32s 685ms/step - loss: 0.1974 - root_mean_squared_error: 0.4443 - val_loss: 0.2445 - val_root_mean_squared_error: 0.4945\n",
            "Epoch 9/15\n",
            "47/47 [==============================] - 32s 684ms/step - loss: 0.1749 - root_mean_squared_error: 0.4182 - val_loss: 0.2508 - val_root_mean_squared_error: 0.5008\n",
            "Epoch 10/15\n",
            "47/47 [==============================] - 32s 684ms/step - loss: 0.1550 - root_mean_squared_error: 0.3937 - val_loss: 0.2580 - val_root_mean_squared_error: 0.5080\n"
          ]
        }
      ]
    },
    {
      "cell_type": "code",
      "source": [
        "#plot training and val loss\n",
        "plt.plot(history.history['loss'])\n",
        "plt.plot(history.history['val_loss'])\n",
        "plt.title('Bidirectional LSTM')\n",
        "plt.ylabel('loss')\n",
        "plt.xlabel('epoch')\n",
        "plt.legend(['training', 'validation'])\n",
        "plt.show()"
      ],
      "metadata": {
        "colab": {
          "base_uri": "https://localhost:8080/",
          "height": 295
        },
        "id": "6WnmKF8l3uV3",
        "outputId": "e2b36fa0-af37-4c2f-a7a5-ab6002b89588"
      },
      "execution_count": null,
      "outputs": [
        {
          "output_type": "display_data",
          "data": {
            "text/plain": [
              "<Figure size 432x288 with 1 Axes>"
            ],
            "image/png": "[encoded data removed]"
          },
          "metadata": {
            "needs_background": "light"
          }
        }
      ]
    },
    {
      "cell_type": "code",
      "execution_count": null,
      "metadata": {
        "id": "tjSNBewMbL4o"
      },
      "outputs": [],
      "source": [
        "#Calculating Error\n",
        "y_pred = model.predict([test_titles,test_descr,test_attribute,test_search_term])\n",
        "\n",
        "rmse = mean_squared_error(y_pred,test_pred,squared=False)\n",
        "mse = mean_squared_error(y_pred,test_pred)\n",
        "mae = median_absolute_error(y_pred,test_pred)"
      ]
    },
    {
      "cell_type": "code",
      "execution_count": null,
      "metadata": {
        "colab": {
          "base_uri": "https://localhost:8080/"
        },
        "id": "UfqOqGgxbL7u",
        "outputId": "2d54fe11-0043-4015-b1aa-65a11a97bc9b"
      },
      "outputs": [
        {
          "output_type": "stream",
          "name": "stdout",
          "text": [
            "RMSE on test data : 0.48885810258269385\n",
            "MSE on test data  : 0.23898224446075164\n",
            "MAE on test data  : 0.38336265087127686\n"
          ]
        }
      ],
      "source": [
        "print(\"RMSE on test data :\",rmse)\n",
        "print(\"MSE on test data  :\",mse)\n",
        "print(\"MAE on test data  :\",mae)"
      ]
    },
    {
      "cell_type": "code",
      "execution_count": null,
      "metadata": {
        "colab": {
          "base_uri": "https://localhost:8080/",
          "height": 313
        },
        "id": "8phDGQCLbL-l",
        "outputId": "ea4a49cd-8dbc-4741-db53-57ee2607315f"
      },
      "outputs": [
        {
          "output_type": "execute_result",
          "data": {
            "text/plain": [
              "Text(0, 0.5, 'Actual Relevance')"
            ]
          },
          "metadata": {},
          "execution_count": 50
        },
        {
          "output_type": "display_data",
          "data": {
            "text/plain": [
              "<Figure size 432x288 with 1 Axes>"
            ],
            "image/png": "[encoded data removed]"
          },
          "metadata": {
            "needs_background": "light"
          }
        }
      ],
      "source": [
        "plt.scatter(y_pred[:50],test_pred[:50],c=\"g\")\n",
        "plt.title(\"Analysis: Bidirectional LSTM\")\n",
        "plt.xlabel(\"Predicted Relevance\")\n",
        "plt.ylabel(\"Actual Relevance\")"
      ]
    },
    {
      "cell_type": "code",
      "execution_count": null,
      "metadata": {
        "colab": {
          "base_uri": "https://localhost:8080/"
        },
        "id": "InqAyNhVbzsC",
        "outputId": "98e86a9a-9b53-461c-84ef-9190c18b3e7a"
      },
      "outputs": [
        {
          "output_type": "stream",
          "name": "stdout",
          "text": [
            "Time taken by BI LSTM model to predict the relevance:  0.1773061752319336\n"
          ]
        }
      ],
      "source": [
        "#Time taken by BiLSTM\n",
        "\n",
        "t = time.time()\n",
        "title = encoder_title.texts_to_sequences(test[\"preprocessed_title\"].values[0:1])\n",
        "descr = encoder_descr.texts_to_sequences(test[\"preprocessed_description\"].values[0:1])\n",
        "attr = encoder_attribute.texts_to_sequences(test[\"preprocessed_attributes\"].values[0:1])\n",
        "search_term_ = encoder_search_term.texts_to_sequences(test[\"search_term\"].values[0:1])\n",
        "\n",
        "title = pad_sequences(title,maxlen=titles_length)\n",
        "descr = pad_sequences(descr,maxlen=200,truncating=\"post\")\n",
        "attr = pad_sequences(attr,maxlen=200,truncating=\"post\")\n",
        "search_term_ = pad_sequences(search_term_,maxlen=search_term_length)\n",
        "\n",
        "pred = model.predict([title,descr,attr,search_term_])\n",
        "time_taken = time.time()-t\n",
        "print(\"Time taken by BI LSTM model to predict the relevance: \",time_taken)"
      ]
    },
    {
      "cell_type": "markdown",
      "source": [
        "####Attention Model"
      ],
      "metadata": {
        "id": "GyXVrXSUEbNj"
      }
    },
    {
      "cell_type": "code",
      "execution_count": null,
      "metadata": {
        "id": "bHCKYMJwfeMq"
      },
      "outputs": [],
      "source": [
        "backend.clear_session()"
      ]
    },
    {
      "cell_type": "code",
      "execution_count": null,
      "metadata": {
        "id": "YjnqbanHAzRX"
      },
      "outputs": [],
      "source": [
        "#Attention\n",
        "#Product title - layers\n",
        "#shape of title is the length\n",
        "input_title = Input(shape=(titles_length))\n",
        "embedding_layer = Embedding(input_dim=(title_vocab_len+1),output_dim=50,input_length=titles_length)\n",
        "embedding_vectors = embedding_layer(input_title)\n",
        "output_title, forward_h, forward_c, backward_h, backward_c = Bidirectional(\n",
        "    LSTM(lstm_units,return_state=True,dropout=0.25))(embedding_vectors)\n",
        "title_state_h = tf.keras.layers.Concatenate()([forward_h, backward_h])\n",
        "title_state_c = tf.keras.layers.Concatenate()([forward_c, backward_c])"
      ]
    },
    {
      "cell_type": "code",
      "execution_count": null,
      "metadata": {
        "id": "UQx6epVLA6LE"
      },
      "outputs": [],
      "source": [
        "#Product description - layers\n",
        "#taking input shape of description 200\n",
        "input_description = Input(shape=(200))\n",
        "embedding_layer = Embedding(input_dim=(descr_vocab_len+1),output_dim=100,input_length=200)\n",
        "embedding_vectors = embedding_layer(input_description)\n",
        "output_description, forward_h, forward_c, backward_h, backward_c = Bidirectional(\n",
        "    LSTM(100,return_state=True,dropout=0.25))(embedding_vectors)\n",
        "description_state_h = tf.keras.layers.Concatenate()([forward_h, backward_h])\n",
        "description_state_c = tf.keras.layers.Concatenate()([forward_c, backward_c])"
      ]
    },
    {
      "cell_type": "code",
      "execution_count": null,
      "metadata": {
        "id": "Bpn-3m2MA-rJ"
      },
      "outputs": [],
      "source": [
        "#Product attribute - layers\n",
        "#taking input shape of attribute 200\n",
        "input_attribute = Input(shape=(200))\n",
        "embedding_layer = Embedding(input_dim=(attr_vocab_len+1),output_dim=100,input_length=200)\n",
        "embedding_vectors = embedding_layer(input_attribute)\n",
        "output_attribute, forward_h, forward_c, backward_h, backward_c = Bidirectional(\n",
        "    LSTM(100,return_state=True,dropout=0.25))(embedding_vectors)\n",
        "attr_state_h = tf.keras.layers.Concatenate()([forward_h, backward_h])\n",
        "attr_state_c = tf.keras.layers.Concatenate()([forward_c, backward_c])"
      ]
    },
    {
      "cell_type": "code",
      "execution_count": null,
      "metadata": {
        "id": "zmI4Rm-JBBlj"
      },
      "outputs": [],
      "source": [
        "#Product search term - layers\n",
        "#shape of search term is the length\n",
        "input_search_term = Input(shape=(search_term_length))\n",
        "embedding_layer = Embedding(input_dim=(search_term_vocab_len+1),output_dim=100,input_length=search_term_length)\n",
        "embedding_vectors = embedding_layer(input_search_term)\n",
        "output_search_term = Bidirectional(LSTM(100))(embedding_vectors)\n"
      ]
    },
    {
      "cell_type": "code",
      "execution_count": null,
      "metadata": {
        "id": "YL7KuIP6BHyi"
      },
      "outputs": [],
      "source": [
        "#Using reference from BahdanauAttention\n",
        "class Attention(tf.keras.Model):\n",
        "    def __init__(self, units):\n",
        "        super(Attention, self).__init__()\n",
        "        self.w1 = Dense(units)\n",
        "        self.w2 = Dense(units)\n",
        "        self.V = Dense(1)\n",
        "    def call(self, input, values):\n",
        "      # hidden shape --> (batch_size, hidden size)\n",
        "      # hidden_with_time_axis shape --> (batch_size, 1, hidden size)\n",
        "        hidden_with_time_axis = tf.expand_dims(values, 1)\n",
        "      # score shape --> (batch_size, max_length, hidden_size)\n",
        "        score = tf.nn.tanh(self.w1(input) + self.w2(hidden_with_time_axis))\n",
        "      # attention_weights shape --> (batch_size, max_length, 1)\n",
        "        attention_weights = tf.nn.softmax(self.V(score), axis=1)\n",
        "      # context_vector shape after sum --> (batch_size, hidden_size)\n",
        "        context_vector = attention_weights * input\n",
        "        context_vector = tf.reduce_sum(context_vector, axis=1)\n",
        "\n",
        "        return context_vector, attention_weights"
      ]
    },
    {
      "cell_type": "code",
      "execution_count": null,
      "metadata": {
        "id": "DOt5AaFTBLhS"
      },
      "outputs": [],
      "source": [
        "#Calculating context vectors\n",
        "#Merging title, description and attribute hiiden state\n",
        "#with search term one by one to get context vectors and \n",
        "#attention weights\n",
        "#title context vector\n",
        "context_vector_title, attention_weights = Attention(100)(output_search_term, title_state_h)\n",
        "#description_state context vector\n",
        "context_vector_descr, attention_weights = Attention(100)(output_search_term, description_state_h)\n",
        "#attribute context vector\n",
        "context_vector_attr, attention_weights = Attention(100)(output_search_term, attr_state_h)"
      ]
    },
    {
      "cell_type": "code",
      "execution_count": null,
      "metadata": {
        "id": "WMWKSYcHBPvj"
      },
      "outputs": [],
      "source": [
        "#Concatenate all context vectors\n",
        "con_layer = concatenate([context_vector_title,context_vector_descr,context_vector_attr])\n",
        "dense = Dense(10,activation=\"relu\")(con_layer)\n",
        "output_layer = Dense(1,activation=\"linear\")(dense)"
      ]
    },
    {
      "cell_type": "code",
      "execution_count": null,
      "metadata": {
        "id": "2X5kR_6tBR7k"
      },
      "outputs": [],
      "source": [
        "#feeding the input and output layers to the model\n",
        "model = Model(inputs=[input_title,input_description,input_attribute,input_search_term], outputs=output_layer)"
      ]
    },
    {
      "cell_type": "code",
      "source": [
        "plot_model(model, to_file='Attention plot.png', show_shapes=True, show_layer_names=True)"
      ],
      "metadata": {
        "colab": {
          "base_uri": "https://localhost:8080/",
          "height": 183
        },
        "id": "UT-Qf2_JaWAj",
        "outputId": "c1c973de-4e3e-46e0-bc37-a3cb0f25215c"
      },
      "execution_count": null,
      "outputs": [
        {
          "output_type": "execute_result",
          "data": {
            "text/plain": [
              "<IPython.core.display.Image object>"
            ],
            "image/png": "[encoded data removed]"
          },
          "metadata": {},
          "execution_count": 63
        }
      ]
    },
    {
      "cell_type": "code",
      "execution_count": null,
      "metadata": {
        "id": "2dVyERMbBdO6"
      },
      "outputs": [],
      "source": [
        "#compile attention model\n",
        "model.compile(\n",
        "    optimizer=Adam(learning_rate=0.0001),\n",
        "    loss='mse', metrics=[RootMeanSquaredError()])\n"
      ]
    },
    {
      "cell_type": "code",
      "execution_count": null,
      "metadata": {
        "colab": {
          "base_uri": "https://localhost:8080/"
        },
        "id": "9_hd3M7DBgUF",
        "outputId": "d54850f5-fbec-4207-e523-71686ef946b5"
      },
      "outputs": [
        {
          "output_type": "stream",
          "name": "stdout",
          "text": [
            "Epoch 1/30\n",
            "47/47 [==============================] - 79s 613ms/step - loss: 5.0634 - root_mean_squared_error: 2.2502 - val_loss: 3.3858 - val_root_mean_squared_error: 1.8401\n",
            "Epoch 2/30\n",
            "47/47 [==============================] - 26s 547ms/step - loss: 1.1340 - root_mean_squared_error: 1.0649 - val_loss: 0.3040 - val_root_mean_squared_error: 0.5513\n",
            "Epoch 3/30\n",
            "47/47 [==============================] - 25s 543ms/step - loss: 0.2913 - root_mean_squared_error: 0.5397 - val_loss: 0.2884 - val_root_mean_squared_error: 0.5370\n",
            "Epoch 4/30\n",
            "47/47 [==============================] - 26s 544ms/step - loss: 0.2858 - root_mean_squared_error: 0.5346 - val_loss: 0.2883 - val_root_mean_squared_error: 0.5370\n",
            "Epoch 5/30\n",
            "47/47 [==============================] - 26s 545ms/step - loss: 0.2857 - root_mean_squared_error: 0.5345 - val_loss: 0.2883 - val_root_mean_squared_error: 0.5369\n",
            "Epoch 6/30\n",
            "47/47 [==============================] - 26s 545ms/step - loss: 0.2858 - root_mean_squared_error: 0.5346 - val_loss: 0.2883 - val_root_mean_squared_error: 0.5369\n",
            "Epoch 7/30\n",
            "47/47 [==============================] - 26s 544ms/step - loss: 0.2857 - root_mean_squared_error: 0.5345 - val_loss: 0.2882 - val_root_mean_squared_error: 0.5369\n",
            "Epoch 8/30\n",
            "47/47 [==============================] - 25s 543ms/step - loss: 0.2856 - root_mean_squared_error: 0.5344 - val_loss: 0.2884 - val_root_mean_squared_error: 0.5371\n",
            "Epoch 9/30\n",
            "47/47 [==============================] - 26s 544ms/step - loss: 0.2855 - root_mean_squared_error: 0.5343 - val_loss: 0.2879 - val_root_mean_squared_error: 0.5366\n",
            "Epoch 10/30\n",
            "47/47 [==============================] - 26s 544ms/step - loss: 0.2852 - root_mean_squared_error: 0.5341 - val_loss: 0.2878 - val_root_mean_squared_error: 0.5364\n",
            "Epoch 11/30\n",
            "47/47 [==============================] - 25s 543ms/step - loss: 0.2852 - root_mean_squared_error: 0.5340 - val_loss: 0.2876 - val_root_mean_squared_error: 0.5363\n",
            "Epoch 12/30\n",
            "47/47 [==============================] - 26s 544ms/step - loss: 0.2850 - root_mean_squared_error: 0.5339 - val_loss: 0.2874 - val_root_mean_squared_error: 0.5361\n",
            "Epoch 13/30\n",
            "47/47 [==============================] - 25s 543ms/step - loss: 0.2849 - root_mean_squared_error: 0.5338 - val_loss: 0.2872 - val_root_mean_squared_error: 0.5360\n",
            "Epoch 14/30\n",
            "47/47 [==============================] - 26s 543ms/step - loss: 0.2847 - root_mean_squared_error: 0.5336 - val_loss: 0.2872 - val_root_mean_squared_error: 0.5359\n",
            "Epoch 15/30\n",
            "47/47 [==============================] - 26s 544ms/step - loss: 0.2844 - root_mean_squared_error: 0.5333 - val_loss: 0.2868 - val_root_mean_squared_error: 0.5356\n",
            "Epoch 16/30\n",
            "47/47 [==============================] - 25s 543ms/step - loss: 0.2842 - root_mean_squared_error: 0.5331 - val_loss: 0.2866 - val_root_mean_squared_error: 0.5353\n",
            "Epoch 17/30\n",
            "47/47 [==============================] - 26s 544ms/step - loss: 0.2839 - root_mean_squared_error: 0.5328 - val_loss: 0.2865 - val_root_mean_squared_error: 0.5352\n",
            "Epoch 18/30\n",
            "47/47 [==============================] - 25s 543ms/step - loss: 0.2836 - root_mean_squared_error: 0.5325 - val_loss: 0.2859 - val_root_mean_squared_error: 0.5347\n",
            "Epoch 19/30\n",
            "47/47 [==============================] - 26s 543ms/step - loss: 0.2832 - root_mean_squared_error: 0.5321 - val_loss: 0.2853 - val_root_mean_squared_error: 0.5342\n",
            "Epoch 20/30\n",
            "47/47 [==============================] - 25s 543ms/step - loss: 0.2827 - root_mean_squared_error: 0.5317 - val_loss: 0.2848 - val_root_mean_squared_error: 0.5336\n",
            "Epoch 21/30\n",
            "47/47 [==============================] - 26s 544ms/step - loss: 0.2819 - root_mean_squared_error: 0.5310 - val_loss: 0.2840 - val_root_mean_squared_error: 0.5329\n",
            "Epoch 22/30\n",
            "47/47 [==============================] - 26s 544ms/step - loss: 0.2810 - root_mean_squared_error: 0.5301 - val_loss: 0.2830 - val_root_mean_squared_error: 0.5320\n",
            "Epoch 23/30\n",
            "47/47 [==============================] - 26s 544ms/step - loss: 0.2798 - root_mean_squared_error: 0.5289 - val_loss: 0.2818 - val_root_mean_squared_error: 0.5308\n",
            "Epoch 24/30\n",
            "47/47 [==============================] - 25s 543ms/step - loss: 0.2789 - root_mean_squared_error: 0.5281 - val_loss: 0.2809 - val_root_mean_squared_error: 0.5300\n",
            "Epoch 25/30\n",
            "47/47 [==============================] - 26s 544ms/step - loss: 0.2779 - root_mean_squared_error: 0.5271 - val_loss: 0.2799 - val_root_mean_squared_error: 0.5291\n",
            "Epoch 26/30\n",
            "47/47 [==============================] - 25s 543ms/step - loss: 0.2762 - root_mean_squared_error: 0.5256 - val_loss: 0.2787 - val_root_mean_squared_error: 0.5280\n",
            "Epoch 27/30\n",
            "47/47 [==============================] - 25s 543ms/step - loss: 0.2745 - root_mean_squared_error: 0.5239 - val_loss: 0.2776 - val_root_mean_squared_error: 0.5269\n",
            "Epoch 28/30\n",
            "47/47 [==============================] - 26s 544ms/step - loss: 0.2710 - root_mean_squared_error: 0.5206 - val_loss: 0.2759 - val_root_mean_squared_error: 0.5252\n",
            "Epoch 29/30\n",
            "47/47 [==============================] - 25s 543ms/step - loss: 0.2650 - root_mean_squared_error: 0.5148 - val_loss: 0.2753 - val_root_mean_squared_error: 0.5247\n",
            "Epoch 30/30\n",
            "47/47 [==============================] - 25s 542ms/step - loss: 0.2603 - root_mean_squared_error: 0.5102 - val_loss: 0.2764 - val_root_mean_squared_error: 0.5257\n"
          ]
        }
      ],
      "source": [
        "attention = model.fit(x=[train_titles,train_descr,train_attribute,train_search_term],\n",
        "                      y=train_pred,epochs=30,batch_size=1024,callbacks=[EarlyStopping(patience=2,restore_best_weights=True)] ,\n",
        "                      validation_data=([valid_titles,valid_descr,valid_attribute,valid_search_term],\n",
        "                                       valid_pred\n",
        "                      ))"
      ]
    },
    {
      "cell_type": "code",
      "execution_count": null,
      "metadata": {
        "id": "1z5_6fM6BicT"
      },
      "outputs": [],
      "source": [
        "y_pred = model.predict([test_titles,test_descr,test_attribute,test_search_term])\n",
        "\n",
        "rmse = mean_squared_error(y_pred,test_pred,squared=False)\n",
        "mse = mean_squared_error(y_pred,test_pred)\n",
        "mae = median_absolute_error(y_pred,test_pred)"
      ]
    },
    {
      "cell_type": "code",
      "source": [
        "print(\"RMSE on test data :\",rmse)\n",
        "print(\"MSE on test data  :\",mse)\n",
        "print(\"MAE on test data  :\",mae)"
      ],
      "metadata": {
        "colab": {
          "base_uri": "https://localhost:8080/"
        },
        "id": "18SqTLPJQ04V",
        "outputId": "98b98abb-c02b-490a-8d14-a3ba32ff186d"
      },
      "execution_count": null,
      "outputs": [
        {
          "output_type": "stream",
          "name": "stdout",
          "text": [
            "RMSE on test data : 0.5295950992943332\n",
            "MSE on test data  : 0.2804709691965747\n",
            "MAE on test data  : 0.3848150587081909\n"
          ]
        }
      ]
    },
    {
      "cell_type": "code",
      "execution_count": null,
      "metadata": {
        "id": "DqYjFGGaHODl"
      },
      "outputs": [],
      "source": [
        "#Time taken by ATTENTION\n",
        "\n",
        "t = time.time()\n",
        "title = encoder_title.texts_to_sequences(test[\"preprocessed_title\"].values[0:1])\n",
        "descr = encoder_descr.texts_to_sequences(test[\"preprocessed_description\"].values[0:1])\n",
        "attr = encoder_attribute.texts_to_sequences(test[\"preprocessed_attributes\"].values[0:1])\n",
        "search_term_ = encoder_search_term.texts_to_sequences(test[\"search_term\"].values[0:1])"
      ]
    },
    {
      "cell_type": "code",
      "source": [
        "title = pad_sequences(title,maxlen=titles_length)\n",
        "descr = pad_sequences(descr,maxlen=200,truncating=\"post\")\n",
        "attr = pad_sequences(attr,maxlen=200,truncating=\"post\")\n",
        "search_term_ = pad_sequences(search_term_,maxlen=search_term_length)"
      ],
      "metadata": {
        "id": "Jy0kXAVzRLwF"
      },
      "execution_count": null,
      "outputs": []
    },
    {
      "cell_type": "code",
      "source": [
        "pred = model.predict([title,descr,attr,search_term_])\n",
        "time_taken = time.time()-t\n",
        "print(\"Time taken by Attention model to predict the relevance: \",time_taken)"
      ],
      "metadata": {
        "colab": {
          "base_uri": "https://localhost:8080/"
        },
        "id": "3jVNNYM6RONo",
        "outputId": "9717cb99-10ca-482b-c3f2-4d9566b9ceeb"
      },
      "execution_count": null,
      "outputs": [
        {
          "output_type": "stream",
          "name": "stdout",
          "text": [
            "Time taken by Attention model to predict the relevance:  4.182840347290039\n"
          ]
        }
      ]
    },
    {
      "cell_type": "markdown",
      "metadata": {
        "id": "WEswFsNBcTAy"
      },
      "source": [
        "####Conv1D Model"
      ]
    },
    {
      "cell_type": "code",
      "execution_count": null,
      "metadata": {
        "id": "K4GvAVWsb3gN"
      },
      "outputs": [],
      "source": [
        "backend.clear_session()\n",
        "from keras.layers import Conv1D, GlobalMaxPooling1D, Dropout"
      ]
    },
    {
      "cell_type": "code",
      "execution_count": null,
      "metadata": {
        "id": "gLMsr8V1cZGP"
      },
      "outputs": [],
      "source": [
        "#Conv1D\n",
        "#Product title - layers\n",
        "#shape of title is the length\n",
        "input_title = Input(shape=(titles_length))\n",
        "embedding_layer = Embedding(input_dim=(title_vocab_len+1),output_dim=50,input_length=titles_length)\n",
        "embedding_vectors = embedding_layer(input_title)\n",
        "dropout = Dropout(0.25)(embedding_vectors)\n",
        "conv = Conv1D(100, 5, activation='relu',padding=\"same\")(dropout)\n",
        "output_title = GlobalMaxPooling1D()(conv)"
      ]
    },
    {
      "cell_type": "code",
      "execution_count": null,
      "metadata": {
        "id": "vAtuoNPdcZIK"
      },
      "outputs": [],
      "source": [
        "#Product description - layers\n",
        "#taking input shape of description 200\n",
        "input_description = Input(shape=(200))\n",
        "embedding_layer = Embedding(input_dim=(descr_vocab_len+1),output_dim=100,input_length=200)\n",
        "embedding_vectors = embedding_layer(input_description)\n",
        "dropout = Dropout(0.25)(embedding_vectors)\n",
        "conv = Conv1D(100, 5, activation='relu',padding=\"same\")(dropout)\n",
        "output_description = GlobalMaxPooling1D()(conv)"
      ]
    },
    {
      "cell_type": "code",
      "execution_count": null,
      "metadata": {
        "id": "Nwlsh-dvcZLD"
      },
      "outputs": [],
      "source": [
        "#Product attribute - layers\n",
        "#taking input shape of attribute 200\n",
        "input_attribute = Input(shape=(200))\n",
        "embedding_layer = Embedding(input_dim=(attr_vocab_len+1),output_dim=100,input_length=200)\n",
        "embedding_vectors = embedding_layer(input_attribute)\n",
        "dropout = Dropout(0.25)(embedding_vectors)\n",
        "conv = Conv1D(100, 5, activation='relu',padding=\"same\")(dropout)\n",
        "output_attribute = GlobalMaxPooling1D()(conv)"
      ]
    },
    {
      "cell_type": "code",
      "execution_count": null,
      "metadata": {
        "id": "kmX7dLM2cZNW"
      },
      "outputs": [],
      "source": [
        "#Product search term - layers\n",
        "#shape of search term is the length\n",
        "input_search_term = Input(shape=(search_term_length))\n",
        "embedding_layer = Embedding(input_dim=(search_term_vocab_len+1),output_dim=100,input_length=search_term_length)\n",
        "dropout = Dropout(0.25)(embedding_vectors)\n",
        "conv = Conv1D(100, 5, activation='relu',padding=\"same\")(dropout)\n",
        "output_search_term = GlobalMaxPooling1D()(conv)"
      ]
    },
    {
      "cell_type": "code",
      "execution_count": null,
      "metadata": {
        "id": "1hOHqxDgcZQO"
      },
      "outputs": [],
      "source": [
        "#Calculating cosine similarity\n",
        "#Merging title, description and attribute with search term one by one\n",
        "#normalise-->True\n",
        "#title cosine sim\n",
        "cosine_sim_title = Dot(axes=-1,normalize=True)([output_title,output_search_term])\n",
        "cosine_sim_descr = Dot(axes=-1,normalize=True)([output_description,output_search_term])\n",
        "cosine_sim_attr = Dot(axes=-1,normalize=True)([output_attribute,output_search_term])"
      ]
    },
    {
      "cell_type": "code",
      "execution_count": null,
      "metadata": {
        "id": "8lcAlZd6cZTW"
      },
      "outputs": [],
      "source": [
        "#concatinating iniputs for dense layer\n",
        "#title, description and attribute \n",
        "concat_inputs = concatenate([cosine_sim_title,cosine_sim_descr,cosine_sim_attr])\n",
        "inputs_1 = Dense(64,activation=\"relu\")(concat_inputs)\n",
        "inputs = Dense(10,activation=\"relu\")(concat_inputs)\n",
        "output_layer = Dense(1,activation=\"linear\")(inputs)"
      ]
    },
    {
      "cell_type": "code",
      "execution_count": null,
      "metadata": {
        "id": "mEU_Fa-4cn9b"
      },
      "outputs": [],
      "source": [
        "#feeding the input and output layers to the model\n",
        "model = Model(inputs=[input_title,input_description,input_attribute,input_search_term], outputs=output_layer)"
      ]
    },
    {
      "cell_type": "code",
      "execution_count": null,
      "metadata": {
        "colab": {
          "base_uri": "https://localhost:8080/",
          "height": 375
        },
        "id": "esA-JCIOcpa-",
        "outputId": "68fa03f7-133d-40e7-b45a-d753cea237c1"
      },
      "outputs": [
        {
          "output_type": "execute_result",
          "data": {
            "text/plain": [
              "<IPython.core.display.Image object>"
            ],
            "image/png": "[encoded data removed]"
          },
          "metadata": {},
          "execution_count": 102
        }
      ],
      "source": [
        "plot_model(model, to_file='Conv1D plot.png', show_shapes=True, show_layer_names=True)"
      ]
    },
    {
      "cell_type": "code",
      "execution_count": null,
      "metadata": {
        "id": "WBJDPrZOc_A9"
      },
      "outputs": [],
      "source": [
        "model.compile(optimizer=Adam(learning_rate=0.0001),\n",
        "    loss='mse', metrics=[RootMeanSquaredError()])"
      ]
    },
    {
      "cell_type": "code",
      "execution_count": null,
      "metadata": {
        "colab": {
          "base_uri": "https://localhost:8080/"
        },
        "id": "f9rXS6DudBi9",
        "outputId": "15b7e788-35da-466c-ad57-ae6fc35ead30"
      },
      "outputs": [
        {
          "output_type": "stream",
          "name": "stdout",
          "text": [
            "Epoch 1/35\n",
            "47/47 [==============================] - 19s 152ms/step - loss: 1.6173 - root_mean_squared_error: 1.2717 - val_loss: 1.5459 - val_root_mean_squared_error: 1.2433\n",
            "Epoch 2/35\n",
            "47/47 [==============================] - 6s 136ms/step - loss: 1.4029 - root_mean_squared_error: 1.1844 - val_loss: 1.3491 - val_root_mean_squared_error: 1.1615\n",
            "Epoch 3/35\n",
            "47/47 [==============================] - 6s 137ms/step - loss: 1.2459 - root_mean_squared_error: 1.1162 - val_loss: 1.1917 - val_root_mean_squared_error: 1.0916\n",
            "Epoch 4/35\n",
            "47/47 [==============================] - 6s 138ms/step - loss: 1.1116 - root_mean_squared_error: 1.0543 - val_loss: 1.0582 - val_root_mean_squared_error: 1.0287\n",
            "Epoch 5/35\n",
            "47/47 [==============================] - 7s 143ms/step - loss: 0.9933 - root_mean_squared_error: 0.9967 - val_loss: 0.9424 - val_root_mean_squared_error: 0.9708\n",
            "Epoch 6/35\n",
            "47/47 [==============================] - 7s 139ms/step - loss: 0.8882 - root_mean_squared_error: 0.9425 - val_loss: 0.8411 - val_root_mean_squared_error: 0.9171\n",
            "Epoch 7/35\n",
            "47/47 [==============================] - 7s 139ms/step - loss: 0.7953 - root_mean_squared_error: 0.8918 - val_loss: 0.7526 - val_root_mean_squared_error: 0.8675\n",
            "Epoch 8/35\n",
            "47/47 [==============================] - 7s 140ms/step - loss: 0.7133 - root_mean_squared_error: 0.8446 - val_loss: 0.6754 - val_root_mean_squared_error: 0.8218\n",
            "Epoch 9/35\n",
            "47/47 [==============================] - 7s 139ms/step - loss: 0.6415 - root_mean_squared_error: 0.8010 - val_loss: 0.6083 - val_root_mean_squared_error: 0.7799\n",
            "Epoch 10/35\n",
            "47/47 [==============================] - 6s 138ms/step - loss: 0.5793 - root_mean_squared_error: 0.7611 - val_loss: 0.5506 - val_root_mean_squared_error: 0.7420\n",
            "Epoch 11/35\n",
            "47/47 [==============================] - 6s 138ms/step - loss: 0.5257 - root_mean_squared_error: 0.7251 - val_loss: 0.5013 - val_root_mean_squared_error: 0.7080\n",
            "Epoch 12/35\n",
            "47/47 [==============================] - 6s 138ms/step - loss: 0.4800 - root_mean_squared_error: 0.6928 - val_loss: 0.4594 - val_root_mean_squared_error: 0.6778\n",
            "Epoch 13/35\n",
            "47/47 [==============================] - 6s 138ms/step - loss: 0.4414 - root_mean_squared_error: 0.6644 - val_loss: 0.4243 - val_root_mean_squared_error: 0.6514\n",
            "Epoch 14/35\n",
            "47/47 [==============================] - 6s 138ms/step - loss: 0.4092 - root_mean_squared_error: 0.6397 - val_loss: 0.3953 - val_root_mean_squared_error: 0.6287\n",
            "Epoch 15/35\n",
            "47/47 [==============================] - 7s 143ms/step - loss: 0.3825 - root_mean_squared_error: 0.6185 - val_loss: 0.3715 - val_root_mean_squared_error: 0.6095\n",
            "Epoch 16/35\n",
            "47/47 [==============================] - 6s 137ms/step - loss: 0.3608 - root_mean_squared_error: 0.6006 - val_loss: 0.3523 - val_root_mean_squared_error: 0.5935\n",
            "Epoch 17/35\n",
            "47/47 [==============================] - 6s 138ms/step - loss: 0.3432 - root_mean_squared_error: 0.5858 - val_loss: 0.3368 - val_root_mean_squared_error: 0.5803\n",
            "Epoch 18/35\n",
            "47/47 [==============================] - 6s 138ms/step - loss: 0.3291 - root_mean_squared_error: 0.5737 - val_loss: 0.3245 - val_root_mean_squared_error: 0.5697\n",
            "Epoch 19/35\n",
            "47/47 [==============================] - 6s 138ms/step - loss: 0.3181 - root_mean_squared_error: 0.5640 - val_loss: 0.3149 - val_root_mean_squared_error: 0.5612\n",
            "Epoch 20/35\n",
            "47/47 [==============================] - 7s 139ms/step - loss: 0.3096 - root_mean_squared_error: 0.5564 - val_loss: 0.3077 - val_root_mean_squared_error: 0.5547\n",
            "Epoch 21/35\n",
            "47/47 [==============================] - 6s 138ms/step - loss: 0.3031 - root_mean_squared_error: 0.5505 - val_loss: 0.3022 - val_root_mean_squared_error: 0.5497\n",
            "Epoch 22/35\n",
            "47/47 [==============================] - 7s 139ms/step - loss: 0.2982 - root_mean_squared_error: 0.5460 - val_loss: 0.2981 - val_root_mean_squared_error: 0.5460\n",
            "Epoch 23/35\n",
            "47/47 [==============================] - 7s 144ms/step - loss: 0.2945 - root_mean_squared_error: 0.5427 - val_loss: 0.2951 - val_root_mean_squared_error: 0.5432\n",
            "Epoch 24/35\n",
            "47/47 [==============================] - 7s 139ms/step - loss: 0.2918 - root_mean_squared_error: 0.5402 - val_loss: 0.2929 - val_root_mean_squared_error: 0.5412\n",
            "Epoch 25/35\n",
            "47/47 [==============================] - 6s 138ms/step - loss: 0.2899 - root_mean_squared_error: 0.5384 - val_loss: 0.2914 - val_root_mean_squared_error: 0.5398\n",
            "Epoch 26/35\n",
            "47/47 [==============================] - 6s 138ms/step - loss: 0.2885 - root_mean_squared_error: 0.5371 - val_loss: 0.2903 - val_root_mean_squared_error: 0.5388\n",
            "Epoch 27/35\n",
            "47/47 [==============================] - 6s 138ms/step - loss: 0.2876 - root_mean_squared_error: 0.5363 - val_loss: 0.2896 - val_root_mean_squared_error: 0.5381\n",
            "Epoch 28/35\n",
            "47/47 [==============================] - 6s 138ms/step - loss: 0.2869 - root_mean_squared_error: 0.5356 - val_loss: 0.2891 - val_root_mean_squared_error: 0.5376\n",
            "Epoch 29/35\n",
            "47/47 [==============================] - 7s 144ms/step - loss: 0.2864 - root_mean_squared_error: 0.5352 - val_loss: 0.2887 - val_root_mean_squared_error: 0.5373\n",
            "Epoch 30/35\n",
            "47/47 [==============================] - 6s 138ms/step - loss: 0.2861 - root_mean_squared_error: 0.5349 - val_loss: 0.2885 - val_root_mean_squared_error: 0.5371\n",
            "Epoch 31/35\n",
            "47/47 [==============================] - 7s 142ms/step - loss: 0.2859 - root_mean_squared_error: 0.5347 - val_loss: 0.2883 - val_root_mean_squared_error: 0.5370\n",
            "Epoch 32/35\n",
            "47/47 [==============================] - 7s 139ms/step - loss: 0.2857 - root_mean_squared_error: 0.5345 - val_loss: 0.2882 - val_root_mean_squared_error: 0.5369\n",
            "Epoch 33/35\n",
            "47/47 [==============================] - 6s 138ms/step - loss: 0.2856 - root_mean_squared_error: 0.5344 - val_loss: 0.2881 - val_root_mean_squared_error: 0.5367\n",
            "Epoch 34/35\n",
            "47/47 [==============================] - 6s 138ms/step - loss: 0.2854 - root_mean_squared_error: 0.5343 - val_loss: 0.2880 - val_root_mean_squared_error: 0.5366\n",
            "Epoch 35/35\n",
            "47/47 [==============================] - 6s 138ms/step - loss: 0.2853 - root_mean_squared_error: 0.5341 - val_loss: 0.2879 - val_root_mean_squared_error: 0.5365\n"
          ]
        }
      ],
      "source": [
        "conv1d = model.fit(x=[train_titles,train_descr,train_attribute,train_search_term],\n",
        "                   y=train_pred,epochs=35,batch_size=1024,callbacks=[EarlyStopping(patience=2,restore_best_weights=True)],\n",
        "                   validation_data=([valid_titles,valid_descr,valid_attribute,valid_search_term],valid_pred\n",
        "                  ))"
      ]
    },
    {
      "cell_type": "code",
      "execution_count": null,
      "metadata": {
        "colab": {
          "base_uri": "https://localhost:8080/",
          "height": 295
        },
        "id": "mhCoeEfSdDWo",
        "outputId": "3a121182-e3e5-45c7-bcaf-6c87d5fdaebb"
      },
      "outputs": [
        {
          "output_type": "display_data",
          "data": {
            "text/plain": [
              "<Figure size 432x288 with 1 Axes>"
            ],
            "image/png": "[encoded data removed]"
          },
          "metadata": {
            "needs_background": "light"
          }
        }
      ],
      "source": [
        "plt.plot(range(len(conv1d.history[\"loss\"])), conv1d.history[\"loss\"], conv1d.history[\"val_loss\"])\n",
        "plt.xlabel('Epoch')\n",
        "plt.ylabel('Loss')\n",
        "plt.legend([\"Training loss\", \"Validation loss\"])\n",
        "plt.title('Conv1D ')\n",
        "plt.show()"
      ]
    },
    {
      "cell_type": "code",
      "execution_count": null,
      "metadata": {
        "id": "7OG2SWjWRjYJ"
      },
      "outputs": [],
      "source": [
        "#Calculating Error\n",
        "y_pred = model.predict([test_titles,test_descr,test_attribute,test_search_term])\n",
        "rmse = mean_squared_error(y_pred,test_pred,squared=False)\n",
        "mse = mean_squared_error(y_pred,test_pred)\n",
        "mae = median_absolute_error(y_pred,test_pred)"
      ]
    },
    {
      "cell_type": "code",
      "source": [
        "print(\"RMSE on test data :\",rmse)\n",
        "print(\"MSE on test data  :\",mse)\n",
        "print(\"MAE on test data  :\",mae)"
      ],
      "metadata": {
        "colab": {
          "base_uri": "https://localhost:8080/"
        },
        "id": "CVFJc871UBRJ",
        "outputId": "0a5967de-791a-42f3-ee69-b5829c7bb446"
      },
      "execution_count": null,
      "outputs": [
        {
          "output_type": "stream",
          "name": "stdout",
          "text": [
            "RMSE on test data : 0.5297197378000695\n",
            "MSE on test data  : 0.28060300061497445\n",
            "MAE on test data  : 0.3779376745223999\n"
          ]
        }
      ]
    },
    {
      "cell_type": "code",
      "execution_count": null,
      "metadata": {
        "colab": {
          "base_uri": "https://localhost:8080/",
          "height": 313
        },
        "id": "n6B5Nt3eZwNQ",
        "outputId": "75db9519-1543-4496-c563-2bfa480cf5b9"
      },
      "outputs": [
        {
          "output_type": "execute_result",
          "data": {
            "text/plain": [
              "Text(0.5, 1.0, 'Analysis on Conv1D')"
            ]
          },
          "metadata": {},
          "execution_count": 113
        },
        {
          "output_type": "display_data",
          "data": {
            "text/plain": [
              "<Figure size 432x288 with 1 Axes>"
            ],
            "image/png": "[encoded data removed]"
          },
          "metadata": {
            "needs_background": "light"
          }
        }
      ],
      "source": [
        "plt.scatter(y_pred[:50],y_pred[:50])\n",
        "plt.xlabel(\"Predicted Relevance\")\n",
        "plt.ylabel(\"Actual Relevance\")\n",
        "plt.title(\"Analysis on Conv1D\")\n",
        "##The below graph is wrong"
      ]
    },
    {
      "cell_type": "code",
      "execution_count": null,
      "metadata": {
        "id": "FNg4jZsVfaHE"
      },
      "outputs": [],
      "source": [
        "#Time taken by ATTENTION\n",
        "\n",
        "t = time.time()\n",
        "title = encoder_title.texts_to_sequences(test[\"preprocessed_title\"].values[0:1])\n",
        "descr = encoder_descr.texts_to_sequences(test[\"preprocessed_description\"].values[0:1])\n",
        "attr = encoder_attribute.texts_to_sequences(test[\"preprocessed_attributes\"].values[0:1])\n",
        "search_term_ = encoder_search_term.texts_to_sequences(test[\"search_term\"].values[0:1])"
      ]
    },
    {
      "cell_type": "code",
      "source": [
        "title = pad_sequences(title,maxlen=titles_length)\n",
        "descr = pad_sequences(descr,maxlen=200,truncating=\"post\")\n",
        "attr = pad_sequences(attr,maxlen=200,truncating=\"post\")\n",
        "search_term_ = pad_sequences(search_term_,maxlen=search_term_length)\n"
      ],
      "metadata": {
        "id": "z7uldzRdSu9f"
      },
      "execution_count": null,
      "outputs": []
    },
    {
      "cell_type": "code",
      "source": [
        "pred = model.predict([title,descr,attr,search_term_])\n",
        "time_taken = time.time()-t\n",
        "print(\"Time taken by conv 1D model to predict the relevance: \",time_taken)"
      ],
      "metadata": {
        "colab": {
          "base_uri": "https://localhost:8080/"
        },
        "id": "YNf39Et0SxAe",
        "outputId": "90e50531-855f-4c2f-fe72-8f93dbd18eca"
      },
      "execution_count": null,
      "outputs": [
        {
          "output_type": "stream",
          "name": "stdout",
          "text": [
            "Time taken by conv 1D model to predict the relevance:  16.2862868309021\n"
          ]
        }
      ]
    },
    {
      "cell_type": "markdown",
      "metadata": {
        "id": "eBTLwTTpC1Ik"
      },
      "source": [
        "####BERT"
      ]
    },
    {
      "cell_type": "code",
      "execution_count": 41,
      "metadata": {
        "id": "acjQoCDnC2hk"
      },
      "outputs": [],
      "source": [
        "from keras import backend\n",
        "backend.clear_session()"
      ]
    },
    {
      "cell_type": "code",
      "execution_count": 42,
      "metadata": {
        "id": "W6TXuKBkC2j8"
      },
      "outputs": [],
      "source": [
        "#Building model using tf.keras and hub. from sentences to embeddings.\n",
        "#Inputs: input token ids (tokenizer converts tokens using vocab file)\n",
        "#input masks (1 for useful tokens, 0 for padding)\n",
        "#segment ids (for 2 text training: 0 for the first one, 1 for the second one)\n",
        "#Taking maximum sequence length for title 20\n",
        "max_seq_length = 30\n",
        "\n",
        "#Initializing inputs here\n",
        "input_word_ids = Input(shape=(max_seq_length,), dtype=tf.int32)\n",
        "input_mask = Input(shape=(max_seq_length,), dtype=tf.int32)\n",
        "segment_ids = Input(shape=(max_seq_length,), dtype=tf.int32)\n",
        "bert_layer = hub.KerasLayer(\"https://tfhub.dev/tensorflow/bert_en_uncased_L-12_H-768_A-12/1\", trainable=False)\n",
        "pooled_output, sequence_output = bert_layer([input_word_ids, input_mask, segment_ids])\n"
      ]
    },
    {
      "cell_type": "code",
      "source": [
        "#\n",
        "model_titles = Model(inputs=[input_word_ids, input_mask, segment_ids], outputs=pooled_output)"
      ],
      "metadata": {
        "id": "XdDCdZswTKbR"
      },
      "execution_count": 43,
      "outputs": []
    },
    {
      "cell_type": "code",
      "source": [
        "#Generating segments and masks based on the original BERT\n",
        "#BERT paper: https://arxiv.org/pdf/1810.04805.pdf"
      ],
      "metadata": {
        "id": "emckORF7_f_S"
      },
      "execution_count": 44,
      "outputs": []
    },
    {
      "cell_type": "code",
      "execution_count": 45,
      "metadata": {
        "id": "b912sAY5C2mS"
      },
      "outputs": [],
      "source": [
        "#Import tokenizer using the original vocab file\n",
        "import tokenization\n",
        "vocab_file = bert_layer.resolved_object.vocab_file.asset_path.numpy()\n",
        "do_lower_case = bert_layer.resolved_object.do_lower_case.numpy()\n",
        "tokenizer=tokenization.FullTokenizer(vocab_file,do_lower_case )\n"
      ]
    },
    {
      "cell_type": "code",
      "execution_count": 46,
      "metadata": {
        "id": "i5MDJwHWC2oW"
      },
      "outputs": [],
      "source": [
        "def mask_and_segment(array,max_seq_length):\n",
        "  X_mask=[]\n",
        "  X_segment=[]\n",
        "  X_tokens=[]\n",
        "  for t in array:\n",
        "      #Token ids from Tokenizer vocab\n",
        "      token = tokenizer.tokenize(t)\n",
        "      #Get segments\n",
        "      if len(token)==max_seq_length-2:\n",
        "              tokens = ['[CLS]',*token,'[SEP]']\n",
        "      elif len(token)>max_seq_length-2:\n",
        "              tokens = ['[CLS]',*token[:max_seq_length-2],'[SEP]']\n",
        "      #else Mask for padding\n",
        "      else:\n",
        "              pad_len = (max_seq_length-2)-len(token)\n",
        "              pads = ['[PAD]']*pad_len\n",
        "              tokens = ['[CLS]',*token,*pads,'[SEP]']\n",
        "              \n",
        "      mask = [1 if i!='[PAD]' else 0 for i in tokens]\n",
        "      segment = [0]*max_seq_length\n",
        "      tokens = tokenizer.convert_tokens_to_ids(tokens)  \n",
        "      X_mask.append(mask)  \n",
        "      X_segment.append(segment)  \n",
        "      X_tokens.append(tokens) \n",
        "\n",
        "  return (np.array(X_tokens),np.array(X_mask),np.array(X_segment))  "
      ]
    },
    {
      "cell_type": "code",
      "execution_count": 47,
      "metadata": {
        "id": "RqeD16NtC2qt"
      },
      "outputs": [],
      "source": [
        "#Applying masking and segmentation on train, valid and test\n",
        "train_titles_tokens,train_titles_mask,train_titles_segment = mask_and_segment(train['preprocessed_title'],30)\n",
        "\n",
        "valid_titles_tokens,cv_titles_mask,cv_titles_segment = mask_and_segment(valid['preprocessed_title'],30)\n",
        "\n",
        "test_titles_tokens,test_titles_mask,test_titles_segment = mask_and_segment(test['preprocessed_title'],30)"
      ]
    },
    {
      "cell_type": "code",
      "source": [
        "#pooled output for titles\n",
        "train_titles_pooled_output = model_titles.predict((train_titles_tokens,train_titles_mask,train_titles_segment))\n",
        "\n",
        "valid_titles_pooled_output = model_titles.predict((valid_titles_tokens,cv_titles_mask,cv_titles_segment))\n",
        "\n",
        "test_titles_pooled_output = model_titles.predict((test_titles_tokens,test_titles_mask,test_titles_segment))"
      ],
      "metadata": {
        "id": "z0qqK-zmJl9q"
      },
      "execution_count": 48,
      "outputs": []
    },
    {
      "cell_type": "code",
      "source": [
        "#Taking maximum sequence length for description 100\n",
        "max_seq_length = 150\n",
        "\n",
        "#Initializing inputs here\n",
        "input_word_ids = Input(shape=(max_seq_length,), dtype=tf.int32)\n",
        "input_mask = Input(shape=(max_seq_length,), dtype=tf.int32)\n",
        "segment_ids = Input(shape=(max_seq_length,), dtype=tf.int32)\n",
        "bert_layer = hub.KerasLayer(\"https://tfhub.dev/tensorflow/bert_en_uncased_L-12_H-768_A-12/1\", trainable=False)\n",
        "pooled_output, sequence_output = bert_layer([input_word_ids, input_mask, segment_ids])\n",
        "\n",
        "#Applying masking and segmentation on train, valid and test\n",
        "train_descr_tokens,train_descr_mask,train_descr_segment = mask_and_segment(train['preprocessed_attributes'],150)\n",
        "\n",
        "valid_descr_tokens,valid_descr_mask,valid_descr_segment = mask_and_segment(valid['preprocessed_attributes'],150)\n",
        "\n",
        "test_descr_tokens,test_descr_mask,test_descr_segment = mask_and_segment(test['preprocessed_attributes'],150)\n",
        "\n",
        "model_attr_descr = Model(inputs=[input_word_ids, input_mask, segment_ids], outputs=pooled_output)\n",
        "\n",
        "#pooled output for description\n",
        "train_descr_pooled_output = model_attr_descr.predict((train_descr_tokens,train_descr_mask,train_descr_segment))\n",
        "\n",
        "valid_descr_pooled_output = model_attr_descr.predict((valid_descr_tokens,valid_descr_mask,valid_descr_segment))\n",
        "\n",
        "test_descr_pooled_output = model_attr_descr.predict((test_descr_tokens,test_descr_mask,test_descr_segment))"
      ],
      "metadata": {
        "id": "4q5b-wGyZ5jp"
      },
      "execution_count": 49,
      "outputs": []
    },
    {
      "cell_type": "code",
      "source": [
        "#Applying masking and segmentation on train, valid and test -- attributes\n",
        "train_attributes_tokens,train_attributes_mask,train_attributes_segment = mask_and_segment(train['preprocessed_attributes'],150)\n",
        "\n",
        "valid_attributes_tokens,valid_attributes_mask,valid_attributes_segment = mask_and_segment(valid['preprocessed_attributes'],150)\n",
        "\n",
        "test_attributes_tokens,test_attributes_mask,test_attributes_segment = mask_and_segment(test['preprocessed_attributes'],150)\n",
        "\n",
        "#pooled output for attributes\n",
        "train_attributes_pooled_output = model_attr_descr.predict((train_attributes_tokens,train_attributes_mask,train_attributes_segment))\n",
        "\n",
        "valid_attributes_pooled_output = model_attr_descr.predict((valid_attributes_tokens,valid_attributes_mask,valid_attributes_segment))\n",
        "\n",
        "test_attributes_pooled_output = model_attr_descr.predict((test_attributes_tokens,test_attributes_mask,test_attributes_segment))"
      ],
      "metadata": {
        "id": "Pv5fVhILcHXV"
      },
      "execution_count": 50,
      "outputs": []
    },
    {
      "cell_type": "code",
      "source": [
        "#Taking maximum sequence length for search term 12\n",
        "max_seq_length = 15\n",
        "\n",
        "#Initializing inputs here\n",
        "input_word_ids = Input(shape=(max_seq_length,), dtype=tf.int32)\n",
        "input_mask = Input(shape=(max_seq_length,), dtype=tf.int32)\n",
        "segment_ids = Input(shape=(max_seq_length,), dtype=tf.int32)\n",
        "bert_layer = hub.KerasLayer(\"https://tfhub.dev/tensorflow/bert_en_uncased_L-12_H-768_A-12/1\", trainable=False)\n",
        "pooled_output, sequence_output = bert_layer([input_word_ids, input_mask, segment_ids])\n",
        "\n",
        "#Applying masking and segmentation on train, valid and test\n",
        "train_search_term_tokens,train_search_term_mask,train_search_term_segment = mask_and_segment(train['search_term'],15)\n",
        "\n",
        "valid_search_term_tokens,valid_search_term_mask,valid_search_term_segment = mask_and_segment(valid['search_term'],15)\n",
        "\n",
        "test_search_term_tokens,test_search_term_mask,test_search_term_segment = mask_and_segment(test['search_term'],15)\n",
        "\n",
        "model_searchterm = Model(inputs=[input_word_ids, input_mask, segment_ids], outputs=pooled_output)\n",
        "\n",
        "#pooled output for description\n",
        "train_search_term_pooled_output=model_searchterm.predict((train_search_term_tokens,train_search_term_mask,\n",
        "                                                      train_search_term_segment))\n",
        "\n",
        "valid_search_term_pooled_output=model_searchterm.predict((valid_search_term_tokens,valid_search_term_mask,\n",
        "                                                   valid_search_term_segment))\n",
        "\n",
        "test_search_term_pooled_output=model_searchterm.predict((test_search_term_tokens,test_search_term_mask,\n",
        "                                                     test_search_term_segment))"
      ],
      "metadata": {
        "id": "EFx5V3krciZw"
      },
      "execution_count": 51,
      "outputs": []
    },
    {
      "cell_type": "code",
      "execution_count": 52,
      "metadata": {
        "id": "O55A9vVFC2-N"
      },
      "outputs": [],
      "source": [
        "backend.clear_session()\n",
        "\n",
        "input_title = Input((768,))\n",
        "dense_title = Dense(256,activation='linear')(input_title)\n",
        "\n",
        "input_description = Input((768,))\n",
        "dropout = Dropout(.25)(input_description)\n",
        "dense_description = Dense(256,activation='linear')(dropout)\n",
        "\n",
        "input_attr = Input((768,))\n",
        "dropout = Dropout(.25)(input_attr)\n",
        "dense_attr = Dense(256,activation='linear')(dropout)\n",
        "\n",
        "input_search_term = Input((768,))\n",
        "dropout = Dropout(.25)(input_search_term)\n",
        "dense_search_term = Dense(256,activation='linear')(dropout)"
      ]
    },
    {
      "cell_type": "code",
      "source": [
        "#concatenating the inputs to feed into dense layer\n",
        "concat_layer = concatenate([dense_title,dense_description,dense_attr,dense_search_term])\n",
        "dense_layer = Dense(128,activation=\"linear\")(concat_layer)\n",
        "dense_layer = Dense(64,activation=\"relu\")(dense_layer)\n",
        "\n",
        "#output layer\n",
        "output_layer = Dense(1,activation='linear')(dense_layer)"
      ],
      "metadata": {
        "id": "0jK5YJ21PhjZ"
      },
      "execution_count": 53,
      "outputs": []
    },
    {
      "cell_type": "code",
      "source": [
        "#model class\n",
        "model = Model(inputs=[input_title,input_description,input_attr,input_search_term],outputs = output_layer)"
      ],
      "metadata": {
        "id": "4O2LpqBkQBvj"
      },
      "execution_count": 54,
      "outputs": []
    },
    {
      "cell_type": "code",
      "source": [
        "\n",
        "plot_model(model, to_file='BERT plot.png', show_shapes=True, show_layer_names=True)"
      ],
      "metadata": {
        "id": "T1TB7K2bQPz1",
        "colab": {
          "base_uri": "https://localhost:8080/",
          "height": 433
        },
        "outputId": "88c0dd5f-9318-4fed-8da6-42d43752a4cc"
      },
      "execution_count": 55,
      "outputs": [
        {
          "output_type": "execute_result",
          "data": {
            "text/plain": [
              "<IPython.core.display.Image object>"
            ],
            "image/png": "[encoded data removed]"
          },
          "metadata": {},
          "execution_count": 55
        }
      ]
    },
    {
      "cell_type": "code",
      "execution_count": 56,
      "metadata": {
        "id": "DJo19ovrC3AV"
      },
      "outputs": [],
      "source": [
        "#compile BERT model\n",
        "model.compile(optimizer=Adam(learning_rate=0.0001),loss='mse',\n",
        "    metrics=[RootMeanSquaredError()])"
      ]
    },
    {
      "cell_type": "code",
      "execution_count": 57,
      "metadata": {
        "id": "WZUhZTVKDaUv",
        "colab": {
          "base_uri": "https://localhost:8080/"
        },
        "outputId": "f1956533-d941-40a2-bc96-c779d44958b6"
      },
      "outputs": [
        {
          "output_type": "stream",
          "name": "stdout",
          "text": [
            "Epoch 1/35\n",
            "47/47 [==============================] - 2s 24ms/step - loss: 0.6248 - root_mean_squared_error: 0.7905 - val_loss: 0.2856 - val_root_mean_squared_error: 0.5344\n",
            "Epoch 2/35\n",
            "47/47 [==============================] - 1s 18ms/step - loss: 0.3618 - root_mean_squared_error: 0.6015 - val_loss: 0.2845 - val_root_mean_squared_error: 0.5334\n",
            "Epoch 3/35\n",
            "47/47 [==============================] - 1s 18ms/step - loss: 0.3437 - root_mean_squared_error: 0.5863 - val_loss: 0.2806 - val_root_mean_squared_error: 0.5297\n",
            "Epoch 4/35\n",
            "47/47 [==============================] - 1s 17ms/step - loss: 0.3292 - root_mean_squared_error: 0.5738 - val_loss: 0.2835 - val_root_mean_squared_error: 0.5324\n",
            "Epoch 5/35\n",
            "47/47 [==============================] - 1s 18ms/step - loss: 0.3212 - root_mean_squared_error: 0.5667 - val_loss: 0.2778 - val_root_mean_squared_error: 0.5271\n",
            "Epoch 6/35\n",
            "47/47 [==============================] - 1s 17ms/step - loss: 0.3090 - root_mean_squared_error: 0.5558 - val_loss: 0.2813 - val_root_mean_squared_error: 0.5304\n",
            "Epoch 7/35\n",
            "47/47 [==============================] - 1s 18ms/step - loss: 0.3042 - root_mean_squared_error: 0.5516 - val_loss: 0.2784 - val_root_mean_squared_error: 0.5276\n"
          ]
        }
      ],
      "source": [
        "bert_ = model.fit(x=[train_titles_pooled_output,train_descr_pooled_output,train_attributes_pooled_output,\n",
        "        train_search_term_pooled_output],y=train_pred,epochs=35,batch_size=1024,\n",
        "        callbacks=[EarlyStopping(patience=2,restore_best_weights=True)],\n",
        "        validation_data=([valid_titles_pooled_output,valid_descr_pooled_output,valid_attributes_pooled_output,\n",
        "                          valid_search_term_pooled_output],valid_pred))\n"
      ]
    },
    {
      "cell_type": "code",
      "execution_count": 58,
      "metadata": {
        "id": "nSsJUIEuDaXD",
        "colab": {
          "base_uri": "https://localhost:8080/",
          "height": 295
        },
        "outputId": "efb11dc5-9866-47bb-f239-af37a3768909"
      },
      "outputs": [
        {
          "output_type": "display_data",
          "data": {
            "text/plain": [
              "<Figure size 432x288 with 1 Axes>"
            ],
            "image/png": "[encoded data removed]"
          },
          "metadata": {
            "needs_background": "light"
          }
        }
      ],
      "source": [
        "plt.plot(range(len(bert_.history[\"loss\"])), bert_.history[\"loss\"], bert_.history[\"val_loss\"])\n",
        "plt.xlabel('Epoch')\n",
        "plt.ylabel('Loss')\n",
        "plt.legend([\"Training loss\", \"Validation loss\"])\n",
        "plt.title('BERT')\n",
        "plt.show()"
      ]
    },
    {
      "cell_type": "code",
      "execution_count": 59,
      "metadata": {
        "id": "Oy57_5ALDaZq"
      },
      "outputs": [],
      "source": [
        "y_pred = model.predict([test_titles_pooled_output,test_descr_pooled_output,\n",
        "                        test_attributes_pooled_output,test_search_term_pooled_output])\n"
      ]
    },
    {
      "cell_type": "code",
      "source": [
        "rmse = mean_squared_error(y_pred,test_pred,squared=False)\n",
        "mse = mean_squared_error(y_pred,test_pred)\n",
        "mae = median_absolute_error(y_pred,test_pred)\n",
        "\n",
        "print(\"RMSE on test data :\",rmse)\n",
        "print(\"MSE on test data  :\",mse)\n",
        "print(\"MAE on test data  :\",mae)"
      ],
      "metadata": {
        "id": "2Lebs4EprKwR",
        "colab": {
          "base_uri": "https://localhost:8080/"
        },
        "outputId": "35cd6a76-6ffc-46fa-d259-4be66c881623"
      },
      "execution_count": 60,
      "outputs": [
        {
          "output_type": "stream",
          "name": "stdout",
          "text": [
            "RMSE on test data : 0.5285483046053597\n",
            "MSE on test data  : 0.2793633103012001\n",
            "MAE on test data  : 0.38443299293518063\n"
          ]
        }
      ]
    },
    {
      "cell_type": "code",
      "execution_count": 61,
      "metadata": {
        "id": "ZOgtSoptDacA",
        "colab": {
          "base_uri": "https://localhost:8080/",
          "height": 313
        },
        "outputId": "6f8b1384-8190-4cd5-c4c9-c82d96bfaf57"
      },
      "outputs": [
        {
          "output_type": "execute_result",
          "data": {
            "text/plain": [
              "Text(0.5, 1.0, 'Analysis on BERT')"
            ]
          },
          "metadata": {},
          "execution_count": 61
        },
        {
          "output_type": "display_data",
          "data": {
            "text/plain": [
              "<Figure size 432x288 with 1 Axes>"
            ],
            "image/png": "[encoded data removed]"
          },
          "metadata": {
            "needs_background": "light"
          }
        }
      ],
      "source": [
        "plt.scatter(y_pred[:40],test_pred[:40])\n",
        "plt.xlabel(\"Predicted Relevance\")\n",
        "plt.ylabel(\"Actual Relevance\")\n",
        "plt.title(\"Analysis on BERT\")"
      ]
    },
    {
      "cell_type": "code",
      "execution_count": 63,
      "metadata": {
        "id": "mkN81gXXDaeF",
        "colab": {
          "base_uri": "https://localhost:8080/"
        },
        "outputId": "9aedd934-98ba-4b8b-f007-feafae8e8bcb"
      },
      "outputs": [
        {
          "output_type": "stream",
          "name": "stdout",
          "text": [
            "Time taken by Bert model to predict the relevance:  11.504122257232666\n"
          ]
        }
      ],
      "source": [
        "t = time.time()\n",
        "\n",
        "titles_tokens,titles_mask,titles_segment = mask_and_segment(test['preprocessed_title'].values[0:1],30)\n",
        "descr_tokens,descr_mask,descr_segment = mask_and_segment(test['preprocessed_description'].values[0:1],150)\n",
        "attr_tokens,attr_mask,attr_segment = mask_and_segment(test['preprocessed_attributes'].values[0:1],150)\n",
        "search_tokens,search_mask,search_segment = mask_and_segment(test['search_term'].values[0:1],15)\n",
        "\n",
        "title_pooled_output=model_titles.predict((titles_tokens,titles_mask,titles_segment))\n",
        "descr_pooled_output=model_attr_descr.predict((descr_tokens,descr_mask,descr_segment))\n",
        "attr_pooled_output=model_attr_descr.predict((attr_tokens,attr_mask,attr_segment ))\n",
        "search_term_pooled_output=model_searchterm.predict((search_tokens,search_mask,search_segment))\n",
        "\n",
        "pred = model.predict([title_pooled_output,descr_pooled_output,attr_pooled_output,search_term_pooled_output])\n",
        "time_taken = time.time()-t\n",
        "print(\"Time taken by Bert model to predict the relevance: \",time_taken)"
      ]
    },
    {
      "cell_type": "code",
      "execution_count": null,
      "metadata": {
        "id": "idO-JgHgDagt"
      },
      "outputs": [],
      "source": [
        ""
      ]
    },
    {
      "cell_type": "code",
      "execution_count": null,
      "metadata": {
        "id": "CDHiZaocDajD"
      },
      "outputs": [],
      "source": [
        ""
      ]
    },
    {
      "cell_type": "code",
      "execution_count": null,
      "metadata": {
        "id": "avEBZl-SDalY"
      },
      "outputs": [],
      "source": [
        ""
      ]
    }
  ],
  "metadata": {
    "accelerator": "GPU",
    "colab": {
      "name": "Final_Project_code_Duggal_Aditi.ipynb",
      "provenance": [],
      "toc_visible": true,
      "collapsed_sections": []
    },
    "kernelspec": {
      "display_name": "Python 3",
      "name": "python3"
    },
    "language_info": {
      "name": "python"
    }
  },
  "nbformat": 4,
  "nbformat_minor": 0
}